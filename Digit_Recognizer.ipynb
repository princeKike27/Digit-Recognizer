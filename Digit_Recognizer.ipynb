{
  "nbformat": 4,
  "nbformat_minor": 0,
  "metadata": {
    "colab": {
      "provenance": [],
      "toc_visible": true,
      "authorship_tag": "ABX9TyPXcFhWh6WcVontpXa82Zm0",
      "include_colab_link": true
    },
    "kernelspec": {
      "name": "python3",
      "display_name": "Python 3"
    },
    "language_info": {
      "name": "python"
    }
  },
  "cells": [
    {
      "cell_type": "markdown",
      "metadata": {
        "id": "view-in-github",
        "colab_type": "text"
      },
      "source": [
        "<a href=\"https://colab.research.google.com/github/princeKike27/Digit-Recognizer/blob/main/Digit_Recognizer.ipynb\" target=\"_parent\"><img src=\"https://colab.research.google.com/assets/colab-badge.svg\" alt=\"Open In Colab\"/></a>"
      ]
    },
    {
      "cell_type": "markdown",
      "source": [
        "# Digit Recognizer Neural Network\n",
        "\n",
        "- Using NumPy I’m going to build a Neural Network that classifies Hand Written Digits from the MNIST dataset. The MNIST dataset consists of thousands of handwritten digits and is used for training image processing systems. I will create the Neural Network Architecture, perform Forward Propagation, find the Gradients of the Parameters using Backward Propagation, find the best parameters using Gradient Descent and get the Predictions and Accuracy of the Neural Network.\n",
        "\n"
      ],
      "metadata": {
        "id": "7XsLZZFqcWEl"
      }
    },
    {
      "cell_type": "markdown",
      "source": [
        "![green-divider](https://user-images.githubusercontent.com/7065401/52071924-c003ad80-2562-11e9-8297-1c6595f8a7ff.png)"
      ],
      "metadata": {
        "id": "MObVq15DeahC"
      }
    },
    {
      "cell_type": "markdown",
      "source": [
        "## Loading Data from Google Drive"
      ],
      "metadata": {
        "id": "o5THibA5ebAd"
      }
    },
    {
      "cell_type": "code",
      "source": [
        "# connect to google drive\n",
        "from google.colab import drive\n",
        "\n",
        "drive.mount('/content/gdrive', force_remount=True)"
      ],
      "metadata": {
        "colab": {
          "base_uri": "https://localhost:8080/"
        },
        "id": "BP6RUtbVeirU",
        "outputId": "a70da8b3-d236-4d04-aeed-bfdfd06c36c9"
      },
      "execution_count": 1,
      "outputs": [
        {
          "output_type": "stream",
          "name": "stdout",
          "text": [
            "Mounted at /content/gdrive\n"
          ]
        }
      ]
    },
    {
      "cell_type": "code",
      "source": [
        "# go to Project Dir\n",
        "%cd '/content/gdrive/My Drive/Data Science/Projects/Portafolio/Digit Recognizer'\n",
        "\n",
        "# check contents of dir\n",
        "%ls"
      ],
      "metadata": {
        "colab": {
          "base_uri": "https://localhost:8080/"
        },
        "id": "QbPlA51TfgfT",
        "outputId": "142ee0f0-d6a1-43c4-d419-77d835eec4a4"
      },
      "execution_count": 2,
      "outputs": [
        {
          "output_type": "stream",
          "name": "stdout",
          "text": [
            "/content/gdrive/My Drive/Data Science/Projects/Portafolio/Digit Recognizer\n",
            "'Digit Recognizer.ipynb'   test.csv   train.csv\n"
          ]
        }
      ]
    },
    {
      "cell_type": "markdown",
      "source": [
        "![green-divider](https://user-images.githubusercontent.com/7065401/52071924-c003ad80-2562-11e9-8297-1c6595f8a7ff.png)"
      ],
      "metadata": {
        "id": "c_pC7TzOcSvo"
      }
    },
    {
      "cell_type": "markdown",
      "source": [
        "## Digit Data\n",
        "\n",
        "<br>\n",
        "\n",
        "![image.png](data:image/png;base64,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)\n",
        "\n",
        "<br>\n",
        "\n",
        "- Each Image is 784 pixels, 28 pixels long and 28 pixels wide\n",
        "\n",
        "  - There are $m$ Training Examples\n",
        "  - Each pixel is a value between $0$ and $255$\n",
        "\n",
        "    - $0 = $ completely Black\n",
        "    - $255 = $ completely White \n",
        "    \n",
        "\n"
      ],
      "metadata": {
        "id": "34m5_QDEgk0N"
      }
    },
    {
      "cell_type": "markdown",
      "source": [
        "![green-divider](https://user-images.githubusercontent.com/7065401/52071924-c003ad80-2562-11e9-8297-1c6595f8a7ff.png)"
      ],
      "metadata": {
        "id": "8mTYOl50gkEs"
      }
    },
    {
      "cell_type": "code",
      "source": [
        "# import modules\n",
        "import pandas as pd\n",
        "import numpy as np\n",
        "import matplotlib.pyplot as plt\n",
        "import seaborn as sns\n",
        "\n",
        "# set style of plots\n",
        "sns.set()"
      ],
      "metadata": {
        "id": "HHoybwolgCas"
      },
      "execution_count": 3,
      "outputs": []
    },
    {
      "cell_type": "code",
      "source": [
        "# load data\n",
        "data_df = pd.read_csv('train.csv')\n",
        "\n",
        "data_df"
      ],
      "metadata": {
        "colab": {
          "base_uri": "https://localhost:8080/",
          "height": 488
        },
        "id": "9dJ_H99Sf5Cd",
        "outputId": "649d204a-95a8-47e7-8e87-466d3662e22b"
      },
      "execution_count": 4,
      "outputs": [
        {
          "output_type": "execute_result",
          "data": {
            "text/plain": [
              "       label  pixel0  pixel1  pixel2  pixel3  pixel4  pixel5  pixel6  pixel7  \\\n",
              "0          1       0       0       0       0       0       0       0       0   \n",
              "1          0       0       0       0       0       0       0       0       0   \n",
              "2          1       0       0       0       0       0       0       0       0   \n",
              "3          4       0       0       0       0       0       0       0       0   \n",
              "4          0       0       0       0       0       0       0       0       0   \n",
              "...      ...     ...     ...     ...     ...     ...     ...     ...     ...   \n",
              "41995      0       0       0       0       0       0       0       0       0   \n",
              "41996      1       0       0       0       0       0       0       0       0   \n",
              "41997      7       0       0       0       0       0       0       0       0   \n",
              "41998      6       0       0       0       0       0       0       0       0   \n",
              "41999      9       0       0       0       0       0       0       0       0   \n",
              "\n",
              "       pixel8  ...  pixel774  pixel775  pixel776  pixel777  pixel778  \\\n",
              "0           0  ...         0         0         0         0         0   \n",
              "1           0  ...         0         0         0         0         0   \n",
              "2           0  ...         0         0         0         0         0   \n",
              "3           0  ...         0         0         0         0         0   \n",
              "4           0  ...         0         0         0         0         0   \n",
              "...       ...  ...       ...       ...       ...       ...       ...   \n",
              "41995       0  ...         0         0         0         0         0   \n",
              "41996       0  ...         0         0         0         0         0   \n",
              "41997       0  ...         0         0         0         0         0   \n",
              "41998       0  ...         0         0         0         0         0   \n",
              "41999       0  ...         0         0         0         0         0   \n",
              "\n",
              "       pixel779  pixel780  pixel781  pixel782  pixel783  \n",
              "0             0         0         0         0         0  \n",
              "1             0         0         0         0         0  \n",
              "2             0         0         0         0         0  \n",
              "3             0         0         0         0         0  \n",
              "4             0         0         0         0         0  \n",
              "...         ...       ...       ...       ...       ...  \n",
              "41995         0         0         0         0         0  \n",
              "41996         0         0         0         0         0  \n",
              "41997         0         0         0         0         0  \n",
              "41998         0         0         0         0         0  \n",
              "41999         0         0         0         0         0  \n",
              "\n",
              "[42000 rows x 785 columns]"
            ],
            "text/html": [
              "\n",
              "  <div id=\"df-ac7d8d87-d3c2-4a55-8dc4-7c62ce9e4fff\">\n",
              "    <div class=\"colab-df-container\">\n",
              "      <div>\n",
              "<style scoped>\n",
              "    .dataframe tbody tr th:only-of-type {\n",
              "        vertical-align: middle;\n",
              "    }\n",
              "\n",
              "    .dataframe tbody tr th {\n",
              "        vertical-align: top;\n",
              "    }\n",
              "\n",
              "    .dataframe thead th {\n",
              "        text-align: right;\n",
              "    }\n",
              "</style>\n",
              "<table border=\"1\" class=\"dataframe\">\n",
              "  <thead>\n",
              "    <tr style=\"text-align: right;\">\n",
              "      <th></th>\n",
              "      <th>label</th>\n",
              "      <th>pixel0</th>\n",
              "      <th>pixel1</th>\n",
              "      <th>pixel2</th>\n",
              "      <th>pixel3</th>\n",
              "      <th>pixel4</th>\n",
              "      <th>pixel5</th>\n",
              "      <th>pixel6</th>\n",
              "      <th>pixel7</th>\n",
              "      <th>pixel8</th>\n",
              "      <th>...</th>\n",
              "      <th>pixel774</th>\n",
              "      <th>pixel775</th>\n",
              "      <th>pixel776</th>\n",
              "      <th>pixel777</th>\n",
              "      <th>pixel778</th>\n",
              "      <th>pixel779</th>\n",
              "      <th>pixel780</th>\n",
              "      <th>pixel781</th>\n",
              "      <th>pixel782</th>\n",
              "      <th>pixel783</th>\n",
              "    </tr>\n",
              "  </thead>\n",
              "  <tbody>\n",
              "    <tr>\n",
              "      <th>0</th>\n",
              "      <td>1</td>\n",
              "      <td>0</td>\n",
              "      <td>0</td>\n",
              "      <td>0</td>\n",
              "      <td>0</td>\n",
              "      <td>0</td>\n",
              "      <td>0</td>\n",
              "      <td>0</td>\n",
              "      <td>0</td>\n",
              "      <td>0</td>\n",
              "      <td>...</td>\n",
              "      <td>0</td>\n",
              "      <td>0</td>\n",
              "      <td>0</td>\n",
              "      <td>0</td>\n",
              "      <td>0</td>\n",
              "      <td>0</td>\n",
              "      <td>0</td>\n",
              "      <td>0</td>\n",
              "      <td>0</td>\n",
              "      <td>0</td>\n",
              "    </tr>\n",
              "    <tr>\n",
              "      <th>1</th>\n",
              "      <td>0</td>\n",
              "      <td>0</td>\n",
              "      <td>0</td>\n",
              "      <td>0</td>\n",
              "      <td>0</td>\n",
              "      <td>0</td>\n",
              "      <td>0</td>\n",
              "      <td>0</td>\n",
              "      <td>0</td>\n",
              "      <td>0</td>\n",
              "      <td>...</td>\n",
              "      <td>0</td>\n",
              "      <td>0</td>\n",
              "      <td>0</td>\n",
              "      <td>0</td>\n",
              "      <td>0</td>\n",
              "      <td>0</td>\n",
              "      <td>0</td>\n",
              "      <td>0</td>\n",
              "      <td>0</td>\n",
              "      <td>0</td>\n",
              "    </tr>\n",
              "    <tr>\n",
              "      <th>2</th>\n",
              "      <td>1</td>\n",
              "      <td>0</td>\n",
              "      <td>0</td>\n",
              "      <td>0</td>\n",
              "      <td>0</td>\n",
              "      <td>0</td>\n",
              "      <td>0</td>\n",
              "      <td>0</td>\n",
              "      <td>0</td>\n",
              "      <td>0</td>\n",
              "      <td>...</td>\n",
              "      <td>0</td>\n",
              "      <td>0</td>\n",
              "      <td>0</td>\n",
              "      <td>0</td>\n",
              "      <td>0</td>\n",
              "      <td>0</td>\n",
              "      <td>0</td>\n",
              "      <td>0</td>\n",
              "      <td>0</td>\n",
              "      <td>0</td>\n",
              "    </tr>\n",
              "    <tr>\n",
              "      <th>3</th>\n",
              "      <td>4</td>\n",
              "      <td>0</td>\n",
              "      <td>0</td>\n",
              "      <td>0</td>\n",
              "      <td>0</td>\n",
              "      <td>0</td>\n",
              "      <td>0</td>\n",
              "      <td>0</td>\n",
              "      <td>0</td>\n",
              "      <td>0</td>\n",
              "      <td>...</td>\n",
              "      <td>0</td>\n",
              "      <td>0</td>\n",
              "      <td>0</td>\n",
              "      <td>0</td>\n",
              "      <td>0</td>\n",
              "      <td>0</td>\n",
              "      <td>0</td>\n",
              "      <td>0</td>\n",
              "      <td>0</td>\n",
              "      <td>0</td>\n",
              "    </tr>\n",
              "    <tr>\n",
              "      <th>4</th>\n",
              "      <td>0</td>\n",
              "      <td>0</td>\n",
              "      <td>0</td>\n",
              "      <td>0</td>\n",
              "      <td>0</td>\n",
              "      <td>0</td>\n",
              "      <td>0</td>\n",
              "      <td>0</td>\n",
              "      <td>0</td>\n",
              "      <td>0</td>\n",
              "      <td>...</td>\n",
              "      <td>0</td>\n",
              "      <td>0</td>\n",
              "      <td>0</td>\n",
              "      <td>0</td>\n",
              "      <td>0</td>\n",
              "      <td>0</td>\n",
              "      <td>0</td>\n",
              "      <td>0</td>\n",
              "      <td>0</td>\n",
              "      <td>0</td>\n",
              "    </tr>\n",
              "    <tr>\n",
              "      <th>...</th>\n",
              "      <td>...</td>\n",
              "      <td>...</td>\n",
              "      <td>...</td>\n",
              "      <td>...</td>\n",
              "      <td>...</td>\n",
              "      <td>...</td>\n",
              "      <td>...</td>\n",
              "      <td>...</td>\n",
              "      <td>...</td>\n",
              "      <td>...</td>\n",
              "      <td>...</td>\n",
              "      <td>...</td>\n",
              "      <td>...</td>\n",
              "      <td>...</td>\n",
              "      <td>...</td>\n",
              "      <td>...</td>\n",
              "      <td>...</td>\n",
              "      <td>...</td>\n",
              "      <td>...</td>\n",
              "      <td>...</td>\n",
              "      <td>...</td>\n",
              "    </tr>\n",
              "    <tr>\n",
              "      <th>41995</th>\n",
              "      <td>0</td>\n",
              "      <td>0</td>\n",
              "      <td>0</td>\n",
              "      <td>0</td>\n",
              "      <td>0</td>\n",
              "      <td>0</td>\n",
              "      <td>0</td>\n",
              "      <td>0</td>\n",
              "      <td>0</td>\n",
              "      <td>0</td>\n",
              "      <td>...</td>\n",
              "      <td>0</td>\n",
              "      <td>0</td>\n",
              "      <td>0</td>\n",
              "      <td>0</td>\n",
              "      <td>0</td>\n",
              "      <td>0</td>\n",
              "      <td>0</td>\n",
              "      <td>0</td>\n",
              "      <td>0</td>\n",
              "      <td>0</td>\n",
              "    </tr>\n",
              "    <tr>\n",
              "      <th>41996</th>\n",
              "      <td>1</td>\n",
              "      <td>0</td>\n",
              "      <td>0</td>\n",
              "      <td>0</td>\n",
              "      <td>0</td>\n",
              "      <td>0</td>\n",
              "      <td>0</td>\n",
              "      <td>0</td>\n",
              "      <td>0</td>\n",
              "      <td>0</td>\n",
              "      <td>...</td>\n",
              "      <td>0</td>\n",
              "      <td>0</td>\n",
              "      <td>0</td>\n",
              "      <td>0</td>\n",
              "      <td>0</td>\n",
              "      <td>0</td>\n",
              "      <td>0</td>\n",
              "      <td>0</td>\n",
              "      <td>0</td>\n",
              "      <td>0</td>\n",
              "    </tr>\n",
              "    <tr>\n",
              "      <th>41997</th>\n",
              "      <td>7</td>\n",
              "      <td>0</td>\n",
              "      <td>0</td>\n",
              "      <td>0</td>\n",
              "      <td>0</td>\n",
              "      <td>0</td>\n",
              "      <td>0</td>\n",
              "      <td>0</td>\n",
              "      <td>0</td>\n",
              "      <td>0</td>\n",
              "      <td>...</td>\n",
              "      <td>0</td>\n",
              "      <td>0</td>\n",
              "      <td>0</td>\n",
              "      <td>0</td>\n",
              "      <td>0</td>\n",
              "      <td>0</td>\n",
              "      <td>0</td>\n",
              "      <td>0</td>\n",
              "      <td>0</td>\n",
              "      <td>0</td>\n",
              "    </tr>\n",
              "    <tr>\n",
              "      <th>41998</th>\n",
              "      <td>6</td>\n",
              "      <td>0</td>\n",
              "      <td>0</td>\n",
              "      <td>0</td>\n",
              "      <td>0</td>\n",
              "      <td>0</td>\n",
              "      <td>0</td>\n",
              "      <td>0</td>\n",
              "      <td>0</td>\n",
              "      <td>0</td>\n",
              "      <td>...</td>\n",
              "      <td>0</td>\n",
              "      <td>0</td>\n",
              "      <td>0</td>\n",
              "      <td>0</td>\n",
              "      <td>0</td>\n",
              "      <td>0</td>\n",
              "      <td>0</td>\n",
              "      <td>0</td>\n",
              "      <td>0</td>\n",
              "      <td>0</td>\n",
              "    </tr>\n",
              "    <tr>\n",
              "      <th>41999</th>\n",
              "      <td>9</td>\n",
              "      <td>0</td>\n",
              "      <td>0</td>\n",
              "      <td>0</td>\n",
              "      <td>0</td>\n",
              "      <td>0</td>\n",
              "      <td>0</td>\n",
              "      <td>0</td>\n",
              "      <td>0</td>\n",
              "      <td>0</td>\n",
              "      <td>...</td>\n",
              "      <td>0</td>\n",
              "      <td>0</td>\n",
              "      <td>0</td>\n",
              "      <td>0</td>\n",
              "      <td>0</td>\n",
              "      <td>0</td>\n",
              "      <td>0</td>\n",
              "      <td>0</td>\n",
              "      <td>0</td>\n",
              "      <td>0</td>\n",
              "    </tr>\n",
              "  </tbody>\n",
              "</table>\n",
              "<p>42000 rows × 785 columns</p>\n",
              "</div>\n",
              "      <button class=\"colab-df-convert\" onclick=\"convertToInteractive('df-ac7d8d87-d3c2-4a55-8dc4-7c62ce9e4fff')\"\n",
              "              title=\"Convert this dataframe to an interactive table.\"\n",
              "              style=\"display:none;\">\n",
              "        \n",
              "  <svg xmlns=\"http://www.w3.org/2000/svg\" height=\"24px\"viewBox=\"0 0 24 24\"\n",
              "       width=\"24px\">\n",
              "    <path d=\"M0 0h24v24H0V0z\" fill=\"none\"/>\n",
              "    <path d=\"M18.56 5.44l.94 2.06.94-2.06 2.06-.94-2.06-.94-.94-2.06-.94 2.06-2.06.94zm-11 1L8.5 8.5l.94-2.06 2.06-.94-2.06-.94L8.5 2.5l-.94 2.06-2.06.94zm10 10l.94 2.06.94-2.06 2.06-.94-2.06-.94-.94-2.06-.94 2.06-2.06.94z\"/><path d=\"M17.41 7.96l-1.37-1.37c-.4-.4-.92-.59-1.43-.59-.52 0-1.04.2-1.43.59L10.3 9.45l-7.72 7.72c-.78.78-.78 2.05 0 2.83L4 21.41c.39.39.9.59 1.41.59.51 0 1.02-.2 1.41-.59l7.78-7.78 2.81-2.81c.8-.78.8-2.07 0-2.86zM5.41 20L4 18.59l7.72-7.72 1.47 1.35L5.41 20z\"/>\n",
              "  </svg>\n",
              "      </button>\n",
              "      \n",
              "  <style>\n",
              "    .colab-df-container {\n",
              "      display:flex;\n",
              "      flex-wrap:wrap;\n",
              "      gap: 12px;\n",
              "    }\n",
              "\n",
              "    .colab-df-convert {\n",
              "      background-color: #E8F0FE;\n",
              "      border: none;\n",
              "      border-radius: 50%;\n",
              "      cursor: pointer;\n",
              "      display: none;\n",
              "      fill: #1967D2;\n",
              "      height: 32px;\n",
              "      padding: 0 0 0 0;\n",
              "      width: 32px;\n",
              "    }\n",
              "\n",
              "    .colab-df-convert:hover {\n",
              "      background-color: #E2EBFA;\n",
              "      box-shadow: 0px 1px 2px rgba(60, 64, 67, 0.3), 0px 1px 3px 1px rgba(60, 64, 67, 0.15);\n",
              "      fill: #174EA6;\n",
              "    }\n",
              "\n",
              "    [theme=dark] .colab-df-convert {\n",
              "      background-color: #3B4455;\n",
              "      fill: #D2E3FC;\n",
              "    }\n",
              "\n",
              "    [theme=dark] .colab-df-convert:hover {\n",
              "      background-color: #434B5C;\n",
              "      box-shadow: 0px 1px 3px 1px rgba(0, 0, 0, 0.15);\n",
              "      filter: drop-shadow(0px 1px 2px rgba(0, 0, 0, 0.3));\n",
              "      fill: #FFFFFF;\n",
              "    }\n",
              "  </style>\n",
              "\n",
              "      <script>\n",
              "        const buttonEl =\n",
              "          document.querySelector('#df-ac7d8d87-d3c2-4a55-8dc4-7c62ce9e4fff button.colab-df-convert');\n",
              "        buttonEl.style.display =\n",
              "          google.colab.kernel.accessAllowed ? 'block' : 'none';\n",
              "\n",
              "        async function convertToInteractive(key) {\n",
              "          const element = document.querySelector('#df-ac7d8d87-d3c2-4a55-8dc4-7c62ce9e4fff');\n",
              "          const dataTable =\n",
              "            await google.colab.kernel.invokeFunction('convertToInteractive',\n",
              "                                                     [key], {});\n",
              "          if (!dataTable) return;\n",
              "\n",
              "          const docLinkHtml = 'Like what you see? Visit the ' +\n",
              "            '<a target=\"_blank\" href=https://colab.research.google.com/notebooks/data_table.ipynb>data table notebook</a>'\n",
              "            + ' to learn more about interactive tables.';\n",
              "          element.innerHTML = '';\n",
              "          dataTable['output_type'] = 'display_data';\n",
              "          await google.colab.output.renderOutput(dataTable, element);\n",
              "          const docLink = document.createElement('div');\n",
              "          docLink.innerHTML = docLinkHtml;\n",
              "          element.appendChild(docLink);\n",
              "        }\n",
              "      </script>\n",
              "    </div>\n",
              "  </div>\n",
              "  "
            ]
          },
          "metadata": {},
          "execution_count": 4
        }
      ]
    },
    {
      "cell_type": "markdown",
      "source": [
        "![green-divider](https://user-images.githubusercontent.com/7065401/52071924-c003ad80-2562-11e9-8297-1c6595f8a7ff.png)"
      ],
      "metadata": {
        "id": "FnBhBwQRdGFT"
      }
    },
    {
      "cell_type": "markdown",
      "source": [
        "## Train Test Split\n",
        "\n",
        "- We are going to *Shuffle* Randomly the Digit Dataset and we are going to split the Data in the following way:\n",
        "\n",
        "  - Train $⟶$ 80% of Data $⟶$ 33,600 examples\n",
        "\n",
        "  - Test $⟶$ 20% of Data $⟶$ 8,400 examples"
      ],
      "metadata": {
        "id": "azB-JgUgdGxb"
      }
    },
    {
      "cell_type": "code",
      "source": [
        "# turn df into array\n",
        "data_array = np.array(data_df)\n",
        "\n",
        "print(f'Data Array Shape: {data_array.shape}', '\\n')\n",
        "\n",
        "data_array"
      ],
      "metadata": {
        "colab": {
          "base_uri": "https://localhost:8080/"
        },
        "id": "XLukWML7d4Wk",
        "outputId": "d6d67e23-cb95-48a3-ac4b-1131c9960dd4"
      },
      "execution_count": 5,
      "outputs": [
        {
          "output_type": "stream",
          "name": "stdout",
          "text": [
            "Data Array Shape: (42000, 785) \n",
            "\n"
          ]
        },
        {
          "output_type": "execute_result",
          "data": {
            "text/plain": [
              "array([[1, 0, 0, ..., 0, 0, 0],\n",
              "       [0, 0, 0, ..., 0, 0, 0],\n",
              "       [1, 0, 0, ..., 0, 0, 0],\n",
              "       ...,\n",
              "       [7, 0, 0, ..., 0, 0, 0],\n",
              "       [6, 0, 0, ..., 0, 0, 0],\n",
              "       [9, 0, 0, ..., 0, 0, 0]])"
            ]
          },
          "metadata": {},
          "execution_count": 5
        }
      ]
    },
    {
      "cell_type": "code",
      "source": [
        "# set random seed\n",
        "np.random.seed(1234)\n",
        "\n",
        "# random shuffle data array\n",
        "np.random.shuffle(data_array)\n",
        "\n",
        "print(f'Data Array Shape: {data_array.shape}', '\\n')\n",
        "\n",
        "data_array"
      ],
      "metadata": {
        "colab": {
          "base_uri": "https://localhost:8080/"
        },
        "id": "A4ErW4HueTxL",
        "outputId": "bce99509-9d42-4961-9a29-fdbccc48c104"
      },
      "execution_count": 6,
      "outputs": [
        {
          "output_type": "stream",
          "name": "stdout",
          "text": [
            "Data Array Shape: (42000, 785) \n",
            "\n"
          ]
        },
        {
          "output_type": "execute_result",
          "data": {
            "text/plain": [
              "array([[8, 0, 0, ..., 0, 0, 0],\n",
              "       [3, 0, 0, ..., 0, 0, 0],\n",
              "       [1, 0, 0, ..., 0, 0, 0],\n",
              "       ...,\n",
              "       [9, 0, 0, ..., 0, 0, 0],\n",
              "       [2, 0, 0, ..., 0, 0, 0],\n",
              "       [3, 0, 0, ..., 0, 0, 0]])"
            ]
          },
          "metadata": {},
          "execution_count": 6
        }
      ]
    },
    {
      "cell_type": "markdown",
      "source": [
        "![green-divider](https://user-images.githubusercontent.com/7065401/52071924-c003ad80-2562-11e9-8297-1c6595f8a7ff.png)"
      ],
      "metadata": {
        "id": "AM9a0Cd0hjNv"
      }
    },
    {
      "cell_type": "markdown",
      "source": [
        "### $X$ Inputs\n",
        "\n",
        "- With the Data already *Shuffled* we are going to create the $X$ Inputs for the *Train* and *Test* sets\n",
        "\n",
        "<br>\n",
        "\n",
        "![image.png](data:image/png;base64,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)\n",
        "\n",
        "<br>\n",
        "\n",
        "- Each Row constitutes an Example and has 784 Columns\n",
        "\n",
        "  - **$X$ needs to be Transpose so it can be fed to the Neural Network**\n",
        "\n",
        "    - Each Column will now consitute an Example and will be 784 Rows, with each Row corresponding to a Pixel in the Image\n",
        "\n",
        "<br>\n",
        "\n",
        "![image.png](data:image/png;base64,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)\n",
        "\n",
        "<br>\n"
      ],
      "metadata": {
        "id": "Tr6w0zSZhjvk"
      }
    },
    {
      "cell_type": "code",
      "source": [
        "# create X array\n",
        "X = data_array[:, 1:]\n",
        "\n",
        "# check X shape\n",
        "print(f'X shape: {X.shape}', '\\n')\n",
        "\n",
        "X"
      ],
      "metadata": {
        "colab": {
          "base_uri": "https://localhost:8080/"
        },
        "id": "-0Y1AAPDjzO5",
        "outputId": "66967df5-0ebb-45c5-dc69-198dd6217e91"
      },
      "execution_count": 7,
      "outputs": [
        {
          "output_type": "stream",
          "name": "stdout",
          "text": [
            "X shape: (42000, 784) \n",
            "\n"
          ]
        },
        {
          "output_type": "execute_result",
          "data": {
            "text/plain": [
              "array([[0, 0, 0, ..., 0, 0, 0],\n",
              "       [0, 0, 0, ..., 0, 0, 0],\n",
              "       [0, 0, 0, ..., 0, 0, 0],\n",
              "       ...,\n",
              "       [0, 0, 0, ..., 0, 0, 0],\n",
              "       [0, 0, 0, ..., 0, 0, 0],\n",
              "       [0, 0, 0, ..., 0, 0, 0]])"
            ]
          },
          "metadata": {},
          "execution_count": 7
        }
      ]
    },
    {
      "cell_type": "code",
      "source": [
        "# X_train >> first 33,600 examples\n",
        "X_train = X[:33600, :]\n",
        "\n",
        "# check shape\n",
        "print(f'X_train shape: {X_train.shape}', '\\n')\n",
        "\n",
        "X_train"
      ],
      "metadata": {
        "colab": {
          "base_uri": "https://localhost:8080/"
        },
        "id": "NnEwgvp4fouW",
        "outputId": "c9dc05ca-4b08-4d41-8371-b5bac48a637d"
      },
      "execution_count": 8,
      "outputs": [
        {
          "output_type": "stream",
          "name": "stdout",
          "text": [
            "X_train shape: (33600, 784) \n",
            "\n"
          ]
        },
        {
          "output_type": "execute_result",
          "data": {
            "text/plain": [
              "array([[0, 0, 0, ..., 0, 0, 0],\n",
              "       [0, 0, 0, ..., 0, 0, 0],\n",
              "       [0, 0, 0, ..., 0, 0, 0],\n",
              "       ...,\n",
              "       [0, 0, 0, ..., 0, 0, 0],\n",
              "       [0, 0, 0, ..., 0, 0, 0],\n",
              "       [0, 0, 0, ..., 0, 0, 0]])"
            ]
          },
          "metadata": {},
          "execution_count": 8
        }
      ]
    },
    {
      "cell_type": "code",
      "source": [
        "# X_test >> last 8,400 examples\n",
        "X_test = X[33600:, :]\n",
        "\n",
        "# check shape\n",
        "print(f'X_test shape: {X_test.shape}', '\\n')\n",
        "\n",
        "X_test"
      ],
      "metadata": {
        "colab": {
          "base_uri": "https://localhost:8080/"
        },
        "id": "QiUh9Eh0gFky",
        "outputId": "287d95cc-255a-47db-87af-494afedb38df"
      },
      "execution_count": 9,
      "outputs": [
        {
          "output_type": "stream",
          "name": "stdout",
          "text": [
            "X_test shape: (8400, 784) \n",
            "\n"
          ]
        },
        {
          "output_type": "execute_result",
          "data": {
            "text/plain": [
              "array([[0, 0, 0, ..., 0, 0, 0],\n",
              "       [0, 0, 0, ..., 0, 0, 0],\n",
              "       [0, 0, 0, ..., 0, 0, 0],\n",
              "       ...,\n",
              "       [0, 0, 0, ..., 0, 0, 0],\n",
              "       [0, 0, 0, ..., 0, 0, 0],\n",
              "       [0, 0, 0, ..., 0, 0, 0]])"
            ]
          },
          "metadata": {},
          "execution_count": 9
        }
      ]
    },
    {
      "cell_type": "markdown",
      "source": [
        "![green-divider](https://user-images.githubusercontent.com/7065401/52071924-c003ad80-2562-11e9-8297-1c6595f8a7ff.png)"
      ],
      "metadata": {
        "id": "WSyDLwK496nI"
      }
    },
    {
      "cell_type": "markdown",
      "source": [
        "### $X$ Transpose\n",
        "\n",
        "<br>\n",
        "\n",
        "- **Transpose X_train and X_test**\n",
        "\n",
        "- We need to divide each pixel by 255:\n",
        "  - $0 = $ completely Black\n",
        "  - $1 = $ completely White\n",
        "\n"
      ],
      "metadata": {
        "id": "XaUM-1B0geye"
      }
    },
    {
      "cell_type": "code",
      "source": [
        "# create X_train Transpose\n",
        "X_train_T = X_train.T\n",
        "\n",
        "# divide each pixel by 255\n",
        "X_train_T = X_train_T / 255 \n",
        "\n",
        "# check shape\n",
        "print(f'X_train Transpose shape: {X_train_T.shape}', '\\n')\n",
        "\n",
        "X_train_T"
      ],
      "metadata": {
        "colab": {
          "base_uri": "https://localhost:8080/"
        },
        "id": "_CwfCjENkUVV",
        "outputId": "9a35a970-5ed6-4051-be6f-70521cfad67e"
      },
      "execution_count": 10,
      "outputs": [
        {
          "output_type": "stream",
          "name": "stdout",
          "text": [
            "X_train Transpose shape: (784, 33600) \n",
            "\n"
          ]
        },
        {
          "output_type": "execute_result",
          "data": {
            "text/plain": [
              "array([[0., 0., 0., ..., 0., 0., 0.],\n",
              "       [0., 0., 0., ..., 0., 0., 0.],\n",
              "       [0., 0., 0., ..., 0., 0., 0.],\n",
              "       ...,\n",
              "       [0., 0., 0., ..., 0., 0., 0.],\n",
              "       [0., 0., 0., ..., 0., 0., 0.],\n",
              "       [0., 0., 0., ..., 0., 0., 0.]])"
            ]
          },
          "metadata": {},
          "execution_count": 10
        }
      ]
    },
    {
      "cell_type": "code",
      "source": [
        "# create X_test Transpose\n",
        "X_test_T = X_test.T \n",
        "\n",
        "# divide each pixel by 255\n",
        "X_test_T = X_test_T / 255\n",
        "\n",
        "# check shape\n",
        "print(f'X_test Transpose shape: {X_test_T.shape}', '\\n')\n",
        "\n",
        "X_test_T"
      ],
      "metadata": {
        "colab": {
          "base_uri": "https://localhost:8080/"
        },
        "id": "fFnaTYOCg8ci",
        "outputId": "632337e9-6829-46bd-940e-72dfcc749143"
      },
      "execution_count": 11,
      "outputs": [
        {
          "output_type": "stream",
          "name": "stdout",
          "text": [
            "X_test Transpose shape: (784, 8400) \n",
            "\n"
          ]
        },
        {
          "output_type": "execute_result",
          "data": {
            "text/plain": [
              "array([[0., 0., 0., ..., 0., 0., 0.],\n",
              "       [0., 0., 0., ..., 0., 0., 0.],\n",
              "       [0., 0., 0., ..., 0., 0., 0.],\n",
              "       ...,\n",
              "       [0., 0., 0., ..., 0., 0., 0.],\n",
              "       [0., 0., 0., ..., 0., 0., 0.],\n",
              "       [0., 0., 0., ..., 0., 0., 0.]])"
            ]
          },
          "metadata": {},
          "execution_count": 11
        }
      ]
    },
    {
      "cell_type": "markdown",
      "source": [
        "![green-divider](https://user-images.githubusercontent.com/7065401/52071924-c003ad80-2562-11e9-8297-1c6595f8a7ff.png)"
      ],
      "metadata": {
        "id": "mVR8iJO1k_F2"
      }
    },
    {
      "cell_type": "markdown",
      "source": [
        "### $Y$ Labels\n",
        "\n",
        "- Each Label is the Correct Number from 0 to 9 that corresponds to the Image \n",
        "\n",
        "  - $Y = [0, 1, 2, 3, 4, 5, 6, 7, 8, 9]$\n",
        "\n",
        "<br>\n",
        "\n",
        "- With the data already *Shuffled* we are going to create the $Y$ Labels for the *Train* and *Test* sets"
      ],
      "metadata": {
        "id": "PTja6Bljk__h"
      }
    },
    {
      "cell_type": "code",
      "source": [
        "# create Y array\n",
        "Y = data_array[:, 0]\n",
        "\n",
        "# check shape\n",
        "print(f'Y shape: {Y.shape}', '\\n')\n",
        "\n",
        "Y"
      ],
      "metadata": {
        "colab": {
          "base_uri": "https://localhost:8080/"
        },
        "id": "o2iPcHhTiAJo",
        "outputId": "9cc0ea74-6841-428a-aca3-eafd60fa1f96"
      },
      "execution_count": 12,
      "outputs": [
        {
          "output_type": "stream",
          "name": "stdout",
          "text": [
            "Y shape: (42000,) \n",
            "\n"
          ]
        },
        {
          "output_type": "execute_result",
          "data": {
            "text/plain": [
              "array([8, 3, 1, ..., 9, 2, 3])"
            ]
          },
          "metadata": {},
          "execution_count": 12
        }
      ]
    },
    {
      "cell_type": "code",
      "source": [
        "# Y_train >> first 33,600 rows\n",
        "Y_train = Y[:33600]\n",
        "\n",
        "# check shape\n",
        "print(f'Y_train shape: {Y_train.shape}', '\\n')\n",
        "\n",
        "Y_train"
      ],
      "metadata": {
        "colab": {
          "base_uri": "https://localhost:8080/"
        },
        "id": "NM1hOtTciWeJ",
        "outputId": "d72e14ca-8206-40cb-fdd8-5b1fb8f12d22"
      },
      "execution_count": 13,
      "outputs": [
        {
          "output_type": "stream",
          "name": "stdout",
          "text": [
            "Y_train shape: (33600,) \n",
            "\n"
          ]
        },
        {
          "output_type": "execute_result",
          "data": {
            "text/plain": [
              "array([8, 3, 1, ..., 5, 1, 9])"
            ]
          },
          "metadata": {},
          "execution_count": 13
        }
      ]
    },
    {
      "cell_type": "code",
      "source": [
        "# Y_test >> last 8,400 rows\n",
        "Y_test = Y[33600:]\n",
        "\n",
        "# check shape\n",
        "print(f'Y_test shape: {Y_test.shape}', '\\n')\n",
        "\n",
        "Y_test"
      ],
      "metadata": {
        "colab": {
          "base_uri": "https://localhost:8080/"
        },
        "id": "KALKQgHpipi9",
        "outputId": "107e5d27-ed59-41d9-d0c6-2cb55611d6ca"
      },
      "execution_count": 14,
      "outputs": [
        {
          "output_type": "stream",
          "name": "stdout",
          "text": [
            "Y_test shape: (8400,) \n",
            "\n"
          ]
        },
        {
          "output_type": "execute_result",
          "data": {
            "text/plain": [
              "array([7, 6, 5, ..., 9, 2, 3])"
            ]
          },
          "metadata": {},
          "execution_count": 14
        }
      ]
    },
    {
      "cell_type": "markdown",
      "source": [
        "![green-divider](https://user-images.githubusercontent.com/7065401/52071924-c003ad80-2562-11e9-8297-1c6595f8a7ff.png)"
      ],
      "metadata": {
        "id": "4mEVNd7Kxq2_"
      }
    },
    {
      "cell_type": "markdown",
      "source": [
        "### One Hot Encode $Y$\n",
        "\n",
        "- We need to One Hot Encode $Y$ so for that for example if:\n",
        "\n",
        "  - $y = 4 ⟶ [0, 0, 0, 0, 1, 0, 0, 0, 0, 0]$ \n",
        "\n",
        "<br>\n",
        "\n",
        "- The Shape for this array will be $⟶ (Y.size \\times 10)$\n",
        "\n",
        "<br>\n",
        "\n",
        "- After performing the encoding we need to Transpose the Matrix so it can be used in the Neural Network"
      ],
      "metadata": {
        "id": "la6KPpZoxreH"
      }
    },
    {
      "cell_type": "code",
      "source": [
        "# create Y_hot_test array >> (Y.size, 10)\n",
        "Y_hot_test = np.zeros((Y_train.size, np.max(Y_train) + 1))\n",
        "\n",
        "# check shape\n",
        "print(f'Y_hot_test shape: {Y_hot_test.shape}', '\\n')\n",
        "\n",
        "Y_hot_test"
      ],
      "metadata": {
        "colab": {
          "base_uri": "https://localhost:8080/"
        },
        "id": "7VKdNLqlyP3k",
        "outputId": "f8c6a213-a0a8-48ef-f7a1-55b86449eeb3"
      },
      "execution_count": 15,
      "outputs": [
        {
          "output_type": "stream",
          "name": "stdout",
          "text": [
            "Y_hot_test shape: (33600, 10) \n",
            "\n"
          ]
        },
        {
          "output_type": "execute_result",
          "data": {
            "text/plain": [
              "array([[0., 0., 0., ..., 0., 0., 0.],\n",
              "       [0., 0., 0., ..., 0., 0., 0.],\n",
              "       [0., 0., 0., ..., 0., 0., 0.],\n",
              "       ...,\n",
              "       [0., 0., 0., ..., 0., 0., 0.],\n",
              "       [0., 0., 0., ..., 0., 0., 0.],\n",
              "       [0., 0., 0., ..., 0., 0., 0.]])"
            ]
          },
          "metadata": {},
          "execution_count": 15
        }
      ]
    },
    {
      "cell_type": "code",
      "source": [
        "# for each row >> place a 1 in the column == Y label\n",
        "Y_hot_test[np.arange(Y_train.size), Y_train] = 1\n",
        "\n",
        "# check first 10 rows\n",
        "print('First 10 rows of Y One Hot Encoding:')\n",
        "print(Y_hot_test[:10, :], '\\n')\n",
        "\n",
        "# print Y first 10 rows\n",
        "print('First 10 rows of Y_train:')\n",
        "print(Y_train[:10])"
      ],
      "metadata": {
        "colab": {
          "base_uri": "https://localhost:8080/"
        },
        "id": "_LA4wXQxzCk-",
        "outputId": "7abb608f-d57b-4a6f-9899-2da75a8fbc84"
      },
      "execution_count": 16,
      "outputs": [
        {
          "output_type": "stream",
          "name": "stdout",
          "text": [
            "First 10 rows of Y One Hot Encoding:\n",
            "[[0. 0. 0. 0. 0. 0. 0. 0. 1. 0.]\n",
            " [0. 0. 0. 1. 0. 0. 0. 0. 0. 0.]\n",
            " [0. 1. 0. 0. 0. 0. 0. 0. 0. 0.]\n",
            " [0. 0. 0. 0. 0. 1. 0. 0. 0. 0.]\n",
            " [1. 0. 0. 0. 0. 0. 0. 0. 0. 0.]\n",
            " [0. 1. 0. 0. 0. 0. 0. 0. 0. 0.]\n",
            " [0. 0. 0. 0. 0. 0. 1. 0. 0. 0.]\n",
            " [0. 0. 0. 0. 1. 0. 0. 0. 0. 0.]\n",
            " [0. 0. 1. 0. 0. 0. 0. 0. 0. 0.]\n",
            " [0. 0. 0. 0. 1. 0. 0. 0. 0. 0.]] \n",
            "\n",
            "First 10 rows of Y_train:\n",
            "[8 3 1 5 0 1 6 4 2 4]\n"
          ]
        }
      ]
    },
    {
      "cell_type": "code",
      "source": [
        "# Transpose Y_hot to be used in the Neural Network\n",
        "Y_hot_test_T = Y_hot_test.T\n",
        "\n",
        "# check shape\n",
        "print(f'Y_hot_test Transpose shape: {Y_hot_test_T.shape}', '\\n')\n",
        "\n",
        "# check first 10 columns\n",
        "print('First 10 columns of Y_hot_test Transpose:')\n",
        "print(Y_hot_test_T[:, 0:10], '\\n')\n",
        "\n",
        "# compare with Y first 10 rows\n",
        "print('First 10 rows of Y_train:')\n",
        "print(Y_train[:10])"
      ],
      "metadata": {
        "colab": {
          "base_uri": "https://localhost:8080/"
        },
        "id": "nLM6RkzL1H6M",
        "outputId": "8482ae91-27a6-4993-9b5d-288dd607fceb"
      },
      "execution_count": 17,
      "outputs": [
        {
          "output_type": "stream",
          "name": "stdout",
          "text": [
            "Y_hot_test Transpose shape: (10, 33600) \n",
            "\n",
            "First 10 columns of Y_hot_test Transpose:\n",
            "[[0. 0. 0. 0. 1. 0. 0. 0. 0. 0.]\n",
            " [0. 0. 1. 0. 0. 1. 0. 0. 0. 0.]\n",
            " [0. 0. 0. 0. 0. 0. 0. 0. 1. 0.]\n",
            " [0. 1. 0. 0. 0. 0. 0. 0. 0. 0.]\n",
            " [0. 0. 0. 0. 0. 0. 0. 1. 0. 1.]\n",
            " [0. 0. 0. 1. 0. 0. 0. 0. 0. 0.]\n",
            " [0. 0. 0. 0. 0. 0. 1. 0. 0. 0.]\n",
            " [0. 0. 0. 0. 0. 0. 0. 0. 0. 0.]\n",
            " [1. 0. 0. 0. 0. 0. 0. 0. 0. 0.]\n",
            " [0. 0. 0. 0. 0. 0. 0. 0. 0. 0.]] \n",
            "\n",
            "First 10 rows of Y_train:\n",
            "[8 3 1 5 0 1 6 4 2 4]\n"
          ]
        }
      ]
    },
    {
      "cell_type": "markdown",
      "source": [
        "<br>\n",
        "\n",
        "- Create Function"
      ],
      "metadata": {
        "id": "l6XdFOAQ2WD-"
      }
    },
    {
      "cell_type": "code",
      "source": [
        "# create function to one hot encode Y\n",
        "def one_hot_encode_Y(Y):\n",
        "\n",
        "  # create zeros array >> (Y.size x np.max() + 1)\n",
        "  Y_encoded = np.zeros((Y.size, np.max(Y) + 1))\n",
        "  # for each row place a 1 where column == Y\n",
        "  Y_encoded[np.arange(Y.size), Y] = 1\n",
        "  # Transpose Y_encoded\n",
        "  Y_encoded = Y_encoded.T\n",
        "\n",
        "  return Y_encoded"
      ],
      "metadata": {
        "id": "0zXdubMt2T0d"
      },
      "execution_count": 18,
      "outputs": []
    },
    {
      "cell_type": "code",
      "source": [
        "# check function\n",
        "Y_hot_test_2 = one_hot_encode_Y(Y_train)\n",
        "\n",
        "# check shape\n",
        "print(f'Y_hot_test_2 shape: {Y_hot_test_2.shape}', '\\n')\n",
        "\n",
        "# check first 10 columns\n",
        "Y_hot_test_2[:, 0:10]"
      ],
      "metadata": {
        "colab": {
          "base_uri": "https://localhost:8080/"
        },
        "id": "kzRbEv0u3PwD",
        "outputId": "50d8dd8d-1dc1-48f9-8837-de08f1b37c35"
      },
      "execution_count": 19,
      "outputs": [
        {
          "output_type": "stream",
          "name": "stdout",
          "text": [
            "Y_hot_test_2 shape: (10, 33600) \n",
            "\n"
          ]
        },
        {
          "output_type": "execute_result",
          "data": {
            "text/plain": [
              "array([[0., 0., 0., 0., 1., 0., 0., 0., 0., 0.],\n",
              "       [0., 0., 1., 0., 0., 1., 0., 0., 0., 0.],\n",
              "       [0., 0., 0., 0., 0., 0., 0., 0., 1., 0.],\n",
              "       [0., 1., 0., 0., 0., 0., 0., 0., 0., 0.],\n",
              "       [0., 0., 0., 0., 0., 0., 0., 1., 0., 1.],\n",
              "       [0., 0., 0., 1., 0., 0., 0., 0., 0., 0.],\n",
              "       [0., 0., 0., 0., 0., 0., 1., 0., 0., 0.],\n",
              "       [0., 0., 0., 0., 0., 0., 0., 0., 0., 0.],\n",
              "       [1., 0., 0., 0., 0., 0., 0., 0., 0., 0.],\n",
              "       [0., 0., 0., 0., 0., 0., 0., 0., 0., 0.]])"
            ]
          },
          "metadata": {},
          "execution_count": 19
        }
      ]
    },
    {
      "cell_type": "markdown",
      "source": [
        "![green-divider](https://user-images.githubusercontent.com/7065401/52071924-c003ad80-2562-11e9-8297-1c6595f8a7ff.png)"
      ],
      "metadata": {
        "id": "aGl9tnnlm72Y"
      }
    },
    {
      "cell_type": "markdown",
      "source": [
        "## Neural Network Model\n",
        "\n",
        "- Neural Network Model Architecture\n",
        "\n",
        "<br>\n",
        "\n",
        "![image.png](data:image/png;base64,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)\n",
        "\n",
        "<br>"
      ],
      "metadata": {
        "id": "SO5U_nJPm8sY"
      }
    },
    {
      "cell_type": "markdown",
      "source": [
        "![green-divider](https://user-images.githubusercontent.com/7065401/52071924-c003ad80-2562-11e9-8297-1c6595f8a7ff.png)"
      ],
      "metadata": {
        "id": "EC3gfMnJjX0Z"
      }
    },
    {
      "cell_type": "markdown",
      "source": [
        "### Forward Propagation\n",
        "\n",
        "- We Activate the Neurons from Left to Right with Random Values for $\\vec{w}$ and $b$"
      ],
      "metadata": {
        "id": "F6nPDbhmjYW7"
      }
    },
    {
      "cell_type": "markdown",
      "source": [
        "![green-divider](https://user-images.githubusercontent.com/7065401/52071924-c003ad80-2562-11e9-8297-1c6595f8a7ff.png)"
      ],
      "metadata": {
        "id": "25y1T6rpjzqq"
      }
    },
    {
      "cell_type": "markdown",
      "source": [
        "#### First Hidden Layer $A^{[1]}$\n",
        "\n",
        "<br>\n",
        "\n",
        "- Activation Function of Input Layer: \n",
        "  - $A^{[0]} = X_{train}.T$  $⟶ (784 \\times m)$\n",
        "\n",
        "<br>\n",
        "\n",
        "- Weight Vector of Layer 1 $⟶$ Randomly Intialized\n",
        "  - $\\vec{w}^{[1]} ⟶ (10 \\times 784) $\n",
        "\n",
        "<br>\n",
        "\n",
        "- Bias Vector of Layer 1 $⟶$ Randomly Initialized\n",
        "  - $b^{[1]} ⟶ (10 \\times 1)$\n",
        "\n",
        "<br>\n",
        "\n",
        "$$  Z^{[1]} = \\vec{w}^{[1]} . A^{[0]} + b^{[1]} $$"
      ],
      "metadata": {
        "id": "zrdd27S1j0Dq"
      }
    },
    {
      "cell_type": "markdown",
      "source": [
        "![green-divider](https://user-images.githubusercontent.com/7065401/52071924-c003ad80-2562-11e9-8297-1c6595f8a7ff.png)"
      ],
      "metadata": {
        "id": "tCxi43KVq6UB"
      }
    },
    {
      "cell_type": "markdown",
      "source": [
        "- $\\vec{w}^{[1]}$"
      ],
      "metadata": {
        "id": "RAGE94m1q60w"
      }
    },
    {
      "cell_type": "code",
      "source": [
        "# initialize W_1 with random values\n",
        "W_1 = np.random.rand(10, 784) - 0.5\n",
        "\n",
        "# check shape\n",
        "print(f'W_1 shape: {W_1.shape}', '\\n')\n",
        "\n",
        "W_1"
      ],
      "metadata": {
        "colab": {
          "base_uri": "https://localhost:8080/"
        },
        "id": "vr1O_HEdl1nG",
        "outputId": "a2df62fc-96ce-4eca-eb3e-7dd8e670469e"
      },
      "execution_count": 20,
      "outputs": [
        {
          "output_type": "stream",
          "name": "stdout",
          "text": [
            "W_1 shape: (10, 784) \n",
            "\n"
          ]
        },
        {
          "output_type": "execute_result",
          "data": {
            "text/plain": [
              "array([[ 0.10018526,  0.27024152, -0.10425398, ...,  0.03977656,\n",
              "        -0.19204169,  0.27917658],\n",
              "       [-0.01246459, -0.2273114 , -0.3945854 , ..., -0.47073963,\n",
              "        -0.11926841, -0.16131885],\n",
              "       [-0.13811131, -0.25510075,  0.36400978, ..., -0.40886568,\n",
              "         0.35026816,  0.24657502],\n",
              "       ...,\n",
              "       [ 0.41321483,  0.11459695,  0.18882371, ..., -0.48432844,\n",
              "        -0.30797211, -0.04951602],\n",
              "       [ 0.4252755 , -0.06092248, -0.25681464, ...,  0.23727506,\n",
              "         0.33005565,  0.44944876],\n",
              "       [-0.20625993,  0.38042493, -0.4093005 , ...,  0.38636578,\n",
              "        -0.39218521, -0.24056648]])"
            ]
          },
          "metadata": {},
          "execution_count": 20
        }
      ]
    },
    {
      "cell_type": "markdown",
      "source": [
        "- $b^{[1]}$"
      ],
      "metadata": {
        "id": "rcBt5_CQrAr6"
      }
    },
    {
      "cell_type": "code",
      "source": [
        "# initialize b_1 with random values\n",
        "b_1 = np.random.rand(10, 1) - 0.5\n",
        "\n",
        "# check shape\n",
        "print(f'b_1 shape: {b_1.shape}', '\\n')\n",
        "\n",
        "b_1"
      ],
      "metadata": {
        "colab": {
          "base_uri": "https://localhost:8080/"
        },
        "id": "HZjDiLl_mXlk",
        "outputId": "04425483-e761-4ba4-efea-c45818762f3c"
      },
      "execution_count": 21,
      "outputs": [
        {
          "output_type": "stream",
          "name": "stdout",
          "text": [
            "b_1 shape: (10, 1) \n",
            "\n"
          ]
        },
        {
          "output_type": "execute_result",
          "data": {
            "text/plain": [
              "array([[ 0.06375527],\n",
              "       [-0.19665939],\n",
              "       [ 0.29028259],\n",
              "       [-0.00746405],\n",
              "       [ 0.44770771],\n",
              "       [-0.34655352],\n",
              "       [-0.01836833],\n",
              "       [ 0.03207773],\n",
              "       [-0.16053592],\n",
              "       [-0.40319448]])"
            ]
          },
          "metadata": {},
          "execution_count": 21
        }
      ]
    },
    {
      "cell_type": "markdown",
      "source": [
        "- $Z^{[1]}$"
      ],
      "metadata": {
        "id": "jA0atM4drE8R"
      }
    },
    {
      "cell_type": "code",
      "source": [
        "# calculate Z_1 >> W_1 . X_train.T + b_1\n",
        "Z_1 = np.dot(W_1, X_train_T) + b_1\n",
        "\n",
        "# check shape\n",
        "print(f'Z_1 shape: {Z_1.shape}', '\\n')\n",
        "\n",
        "Z_1"
      ],
      "metadata": {
        "colab": {
          "base_uri": "https://localhost:8080/"
        },
        "id": "FrY_vxAcp3Lp",
        "outputId": "5a76aeee-032e-400a-d587-a1fdb023c9f9"
      },
      "execution_count": 22,
      "outputs": [
        {
          "output_type": "stream",
          "name": "stdout",
          "text": [
            "Z_1 shape: (10, 33600) \n",
            "\n"
          ]
        },
        {
          "output_type": "execute_result",
          "data": {
            "text/plain": [
              "array([[-1.78870194,  2.24761256, -1.28773424, ..., -0.39174886,\n",
              "        -1.31890835, -0.59110971],\n",
              "       [ 3.87930945,  0.63799353,  1.63323396, ...,  1.46127559,\n",
              "         0.39477822,  2.94954909],\n",
              "       [-0.68189621,  2.64569179, -1.75719049, ...,  1.86029524,\n",
              "         0.56430477,  0.76624591],\n",
              "       ...,\n",
              "       [-0.77384532,  3.62413833, -2.6709754 , ..., -1.6367511 ,\n",
              "        -0.32996064, -3.42701479],\n",
              "       [ 2.00236601, -0.26697548, -0.96475475, ..., -0.22612377,\n",
              "        -2.54676259,  3.83834852],\n",
              "       [ 2.81861424, -2.24519015,  0.87229127, ...,  1.36969521,\n",
              "         1.46882025,  2.79767782]])"
            ]
          },
          "metadata": {},
          "execution_count": 22
        }
      ]
    },
    {
      "cell_type": "markdown",
      "source": [
        "![green-divider](https://user-images.githubusercontent.com/7065401/52071924-c003ad80-2562-11e9-8297-1c6595f8a7ff.png)"
      ],
      "metadata": {
        "id": "iq-Sdzljk_ej"
      }
    },
    {
      "cell_type": "markdown",
      "source": [
        "##### Activation Function of Layer 1\n",
        "\n",
        "- We need to apply an Activation Function else each Node will be a *Linear Combination* of the Nodes Before, in this case the *Input Layer*\n",
        "\n",
        "<br>\n",
        "\n",
        "- The Activation Function that we are going to use is the *Rectified Linear Unit* or **ReLu**, it will Output the Input directly if its greater than 0, otherwise, it will Output 0\n",
        "\n",
        "  - The function is LINEAR for values greater than 0, yet it is a NON-LINEAR function since negative values are Output as 0\n",
        "\n",
        "    - $x$ if $x > 0$\n",
        "    - $0$ if $x <= 0$\n",
        "\n",
        "\n",
        "<br>\n",
        "\n",
        "$$ ReLu(Z^{[1]}) = g(Z^{[1]}) = max(0, z) $$\n",
        "\n",
        "<br>\n",
        "\n",
        "![image.png](data:image/png;base64,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)\n",
        "\n",
        "<br>\n",
        "\n",
        "- The **Derivative of ReLu** is required when updating the Parameters of a Node when *Back Propagating*\n",
        "\n",
        "  - $\\partial{ReLu(x)} = 0$ when $x$ is negative\n",
        "  - $\\partial{ReLu(x)} = 1$ when $x$ is positive"
      ],
      "metadata": {
        "id": "3IKECpDgwnQe"
      }
    },
    {
      "cell_type": "code",
      "source": [
        "# create ReLu >> max(0, Z_1)\n",
        "  # np.maximum() >> compares two arrays and returns a new array containing the element wise maximum\n",
        "\n",
        "ReLu_1 = np.maximum(0, Z_1)\n",
        "\n",
        "# check shape\n",
        "print(f'ReLu_1 shape: {ReLu_1.shape}', '\\n')\n",
        "\n",
        "ReLu_1"
      ],
      "metadata": {
        "colab": {
          "base_uri": "https://localhost:8080/"
        },
        "id": "Tegf7xzd0sCX",
        "outputId": "208a6e8b-95a8-4565-e072-040e8a4162db"
      },
      "execution_count": 23,
      "outputs": [
        {
          "output_type": "stream",
          "name": "stdout",
          "text": [
            "ReLu_1 shape: (10, 33600) \n",
            "\n"
          ]
        },
        {
          "output_type": "execute_result",
          "data": {
            "text/plain": [
              "array([[0.        , 2.24761256, 0.        , ..., 0.        , 0.        ,\n",
              "        0.        ],\n",
              "       [3.87930945, 0.63799353, 1.63323396, ..., 1.46127559, 0.39477822,\n",
              "        2.94954909],\n",
              "       [0.        , 2.64569179, 0.        , ..., 1.86029524, 0.56430477,\n",
              "        0.76624591],\n",
              "       ...,\n",
              "       [0.        , 3.62413833, 0.        , ..., 0.        , 0.        ,\n",
              "        0.        ],\n",
              "       [2.00236601, 0.        , 0.        , ..., 0.        , 0.        ,\n",
              "        3.83834852],\n",
              "       [2.81861424, 0.        , 0.87229127, ..., 1.36969521, 1.46882025,\n",
              "        2.79767782]])"
            ]
          },
          "metadata": {},
          "execution_count": 23
        }
      ]
    },
    {
      "cell_type": "markdown",
      "source": [
        "- $A^{[1]} = ReLu(Z^{[1]})$"
      ],
      "metadata": {
        "id": "7Ezk5Am82CR-"
      }
    },
    {
      "cell_type": "code",
      "source": [
        "# create A_1 >> ReLu_1\n",
        "A_1 = ReLu_1\n",
        "\n",
        "print(f'A_1 shape: {A_1.shape}', '\\n')\n",
        "\n",
        "A_1"
      ],
      "metadata": {
        "colab": {
          "base_uri": "https://localhost:8080/"
        },
        "id": "xHBUPcYC2Lxt",
        "outputId": "55a29a5a-0c5f-422e-e475-a3d930e16888"
      },
      "execution_count": 24,
      "outputs": [
        {
          "output_type": "stream",
          "name": "stdout",
          "text": [
            "A_1 shape: (10, 33600) \n",
            "\n"
          ]
        },
        {
          "output_type": "execute_result",
          "data": {
            "text/plain": [
              "array([[0.        , 2.24761256, 0.        , ..., 0.        , 0.        ,\n",
              "        0.        ],\n",
              "       [3.87930945, 0.63799353, 1.63323396, ..., 1.46127559, 0.39477822,\n",
              "        2.94954909],\n",
              "       [0.        , 2.64569179, 0.        , ..., 1.86029524, 0.56430477,\n",
              "        0.76624591],\n",
              "       ...,\n",
              "       [0.        , 3.62413833, 0.        , ..., 0.        , 0.        ,\n",
              "        0.        ],\n",
              "       [2.00236601, 0.        , 0.        , ..., 0.        , 0.        ,\n",
              "        3.83834852],\n",
              "       [2.81861424, 0.        , 0.87229127, ..., 1.36969521, 1.46882025,\n",
              "        2.79767782]])"
            ]
          },
          "metadata": {},
          "execution_count": 24
        }
      ]
    },
    {
      "cell_type": "markdown",
      "source": [
        "![green-divider](https://user-images.githubusercontent.com/7065401/52071924-c003ad80-2562-11e9-8297-1c6595f8a7ff.png)"
      ],
      "metadata": {
        "id": "WGxjnpRdwkG2"
      }
    },
    {
      "cell_type": "markdown",
      "source": [
        "#### Second Hidden Layer $A^{[2]}$\n",
        "\n",
        "<br>\n",
        "\n",
        "- Outputs of $A^{[1]}$\n",
        "  - $A^{[1]} ⟶ (10 \\times m)$\n",
        "\n",
        "<br>\n",
        "\n",
        "- Weight Vector of Layer 2 $⟶$ Randomly Initialized\n",
        "  - $\\vec{w}^{[2]} ⟶ (10 \\times 10)$\n",
        "\n",
        "<br>\n",
        "\n",
        "- Bias Vector of Layer 1 $⟶$ Randomly Initialized\n",
        "  - $b^{[2]} ⟶ (10 \\times 1) $\n",
        "\n",
        "<br>\n",
        "\n",
        "$$ Z^{[2]} = \\vec{w}^{[2]} . A^{[1]} + b^{[2]}  $$\n",
        "\n"
      ],
      "metadata": {
        "id": "4E7hiDwm2uvq"
      }
    },
    {
      "cell_type": "markdown",
      "source": [
        "![green-divider](https://user-images.githubusercontent.com/7065401/52071924-c003ad80-2562-11e9-8297-1c6595f8a7ff.png)"
      ],
      "metadata": {
        "id": "1t4V5SFSze6V"
      }
    },
    {
      "cell_type": "markdown",
      "source": [
        "<br>\n",
        "\n",
        "- $\\vec{w}^{[2]}$"
      ],
      "metadata": {
        "id": "A_XY7nmWxysK"
      }
    },
    {
      "cell_type": "code",
      "source": [
        "# initialize W_2 with random numbers\n",
        "W_2 = np.random.rand(10, 10) - 0.5\n",
        "\n",
        "# check shape\n",
        "print(f'W_2 shape: {W_2.shape}', '\\n')\n",
        "\n",
        "W_2"
      ],
      "metadata": {
        "colab": {
          "base_uri": "https://localhost:8080/"
        },
        "id": "IviOLtsKxxn3",
        "outputId": "6bb19ca4-88d3-4bb9-c67c-a89467ac075a"
      },
      "execution_count": 25,
      "outputs": [
        {
          "output_type": "stream",
          "name": "stdout",
          "text": [
            "W_2 shape: (10, 10) \n",
            "\n"
          ]
        },
        {
          "output_type": "execute_result",
          "data": {
            "text/plain": [
              "array([[-0.44801219,  0.45484081, -0.42830977,  0.23992531, -0.08978787,\n",
              "         0.29858945, -0.01004943, -0.20977327, -0.49019339, -0.12520866],\n",
              "       [ 0.2018425 , -0.05418279, -0.29054334,  0.47767178, -0.13246695,\n",
              "        -0.47594137,  0.00935565, -0.13065259,  0.39389358,  0.44308036],\n",
              "       [ 0.14986559, -0.33484229, -0.02705993,  0.0481415 , -0.40273572,\n",
              "         0.19953519,  0.32753776, -0.23339772, -0.07220605, -0.09513168],\n",
              "       [ 0.36958881,  0.07350885,  0.33619246,  0.1265511 ,  0.34977995,\n",
              "        -0.07794758,  0.34752635, -0.10055172,  0.32876887,  0.34698984],\n",
              "       [-0.44944691,  0.06006944, -0.05006133, -0.29523133, -0.42460835,\n",
              "        -0.48741358,  0.48422618,  0.04849689, -0.18144966,  0.1851044 ],\n",
              "       [ 0.28806573, -0.05125465, -0.15427557, -0.33905446,  0.32093458,\n",
              "         0.19082146,  0.33783685,  0.00372629, -0.13409595,  0.32140638],\n",
              "       [-0.21097135, -0.28163123,  0.07839156, -0.30495558,  0.07646872,\n",
              "         0.4031674 ,  0.10581534,  0.09752058,  0.11732515, -0.4382101 ],\n",
              "       [-0.36552789,  0.14635709,  0.03026718,  0.3288088 , -0.47784714,\n",
              "         0.33677896, -0.49891317,  0.07979583,  0.21368422,  0.18048322],\n",
              "       [-0.09806781, -0.1393439 ,  0.12798483,  0.45077825,  0.43297759,\n",
              "         0.47426114,  0.22499284, -0.39495751, -0.24950905,  0.42923121],\n",
              "       [ 0.04344488, -0.35192404,  0.4783304 ,  0.00170309,  0.10594793,\n",
              "        -0.16117405,  0.29347705,  0.32194097,  0.28191129, -0.26303306]])"
            ]
          },
          "metadata": {},
          "execution_count": 25
        }
      ]
    },
    {
      "cell_type": "markdown",
      "source": [
        "<br>\n",
        "\n",
        "- $b^{[2]}$"
      ],
      "metadata": {
        "id": "SxpOPP0xy3Ym"
      }
    },
    {
      "cell_type": "code",
      "source": [
        "# initialize b_2 with random numbers\n",
        "b_2 = np.random.rand(10, 1) - 0.5\n",
        "\n",
        "# check shape\n",
        "print(f'b_2 shape: {b_2.shape}', '\\n')\n",
        "\n",
        "b_2"
      ],
      "metadata": {
        "colab": {
          "base_uri": "https://localhost:8080/"
        },
        "id": "JWQcJuQTy50u",
        "outputId": "2a9ece38-373e-4f5d-f9c5-e604c5ac8577"
      },
      "execution_count": 26,
      "outputs": [
        {
          "output_type": "stream",
          "name": "stdout",
          "text": [
            "b_2 shape: (10, 1) \n",
            "\n"
          ]
        },
        {
          "output_type": "execute_result",
          "data": {
            "text/plain": [
              "array([[-0.1560009 ],\n",
              "       [ 0.10666   ],\n",
              "       [ 0.41041884],\n",
              "       [-0.0897063 ],\n",
              "       [ 0.01438999],\n",
              "       [ 0.17777019],\n",
              "       [-0.076884  ],\n",
              "       [-0.00068679],\n",
              "       [ 0.03271707],\n",
              "       [ 0.06012029]])"
            ]
          },
          "metadata": {},
          "execution_count": 26
        }
      ]
    },
    {
      "cell_type": "markdown",
      "source": [
        "<br>\n",
        "\n",
        "- $Z^{[2]}$"
      ],
      "metadata": {
        "id": "NTc9XKmDzh94"
      }
    },
    {
      "cell_type": "code",
      "source": [
        "# calculate Z_2 >> W_2 . A_1 + b_2\n",
        "Z_2 = np.dot(W_2, A_1) + b_2\n",
        "\n",
        "# check shape\n",
        "print(f'Z_2 shape: {Z_2.shape}', '\\n')\n",
        "\n",
        "Z_2"
      ],
      "metadata": {
        "colab": {
          "base_uri": "https://localhost:8080/"
        },
        "id": "8LzCEi_xzlX0",
        "outputId": "002f8098-44cc-4ce9-ec22-48fee4705bba"
      },
      "execution_count": 27,
      "outputs": [
        {
          "output_type": "stream",
          "name": "stdout",
          "text": [
            "Z_2 shape: (10, 33600) \n",
            "\n"
          ]
        },
        {
          "output_type": "execute_result",
          "data": {
            "text/plain": [
              "array([[-0.02968964, -2.78540687,  0.3019453 , ..., -0.4652072 ,\n",
              "        -0.39227788, -1.61314355],\n",
              "       [ 1.53690245, -0.70862241,  0.15616333, ...,  0.09906162,\n",
              "         0.62476076,  2.12355151],\n",
              "       [-1.99935108,  0.08711669, -0.8424443 , ..., -0.07785582,\n",
              "         0.49772785, -2.21192092],\n",
              "       ...,\n",
              "       [-0.99559752, -1.12782924, -0.73659456, ...,  0.2399807 ,\n",
              "        -0.19576322,  0.50896598],\n",
              "       [ 2.06726222, -1.0127949 ,  1.10500468, ...,  0.77989106,\n",
              "         0.97442866,  1.11400079],\n",
              "       [-0.57825199,  2.80924466, -0.41201918, ...,  0.23819482,\n",
              "         0.13667023,  0.01647604]])"
            ]
          },
          "metadata": {},
          "execution_count": 27
        }
      ]
    },
    {
      "cell_type": "markdown",
      "source": [
        "![green-divider](https://user-images.githubusercontent.com/7065401/52071924-c003ad80-2562-11e9-8297-1c6595f8a7ff.png)"
      ],
      "metadata": {
        "id": "giLb69jl2uQB"
      }
    },
    {
      "cell_type": "markdown",
      "source": [
        "##### Activation Function of Layer 2\n",
        "\n",
        "- The Activation Function that is going to be used in Layer 2 is a **SOFMAX** Function\n",
        "\n",
        "  - The SOFTMAX Function is used for Prediction in *Multi-Class* Models, it will return the probabilities of a digit being classified in each of the 10 Classes $[0, 1, 2, 3, 4, 5, 6, 7, 8, 9]$\n",
        "\n",
        "  - The Probabilities determine the Target Class for the given Input\n",
        "\n",
        "<br>\n",
        "\n",
        "$$  f(Z) = \\frac{e^{Z^{(i)}}}{\\sum e^{Z^{(i)}}} $$\n",
        "\n",
        "<br>\n"
      ],
      "metadata": {
        "id": "gfGVc8Kyz8md"
      }
    },
    {
      "cell_type": "code",
      "source": [
        "# function to calculate SoftMax\n",
        "\n",
        "def calculate_softmax(Z):\n",
        "  # calculate the probabilities of a digit being classified in each of the 10 classes\n",
        "  softmax_z = np.exp(Z) / np.sum(np.exp(Z), axis=0) # column-wise\n",
        "\n",
        "  return softmax_z"
      ],
      "metadata": {
        "id": "lzjmLtTI1n1a"
      },
      "execution_count": 28,
      "outputs": []
    },
    {
      "cell_type": "markdown",
      "source": [
        "<br>\n",
        "\n",
        "- $A^{[2]} = SoftMax(Z^{[2]})$"
      ],
      "metadata": {
        "id": "gdvnek6k2Gvh"
      }
    },
    {
      "cell_type": "code",
      "source": [
        "# calculate A_2\n",
        "A_2 = calculate_softmax(Z_2)\n",
        "\n",
        "# check_shape\n",
        "print(f'A_2 shape: {A_2.shape}', '\\n')\n",
        "\n",
        "A_2"
      ],
      "metadata": {
        "colab": {
          "base_uri": "https://localhost:8080/"
        },
        "id": "jrTzJTQr2V9C",
        "outputId": "6e422314-4354-489e-fde6-92e94ec72e22"
      },
      "execution_count": 29,
      "outputs": [
        {
          "output_type": "stream",
          "name": "stdout",
          "text": [
            "A_2 shape: (10, 33600) \n",
            "\n"
          ]
        },
        {
          "output_type": "execute_result",
          "data": {
            "text/plain": [
              "array([[0.01521205, 0.00208541, 0.09259022, ..., 0.04254444, 0.04015778,\n",
              "        0.00377254],\n",
              "       [0.07287021, 0.01663899, 0.08003   , ..., 0.0748    , 0.11103604,\n",
              "        0.1582923 ],\n",
              "       [0.00212214, 0.03687331, 0.02948241, ..., 0.06267111, 0.09778996,\n",
              "        0.00207295],\n",
              "       ...,\n",
              "       [0.00579028, 0.01094127, 0.03277427, ..., 0.0861196 , 0.04887817,\n",
              "        0.03149591],\n",
              "       [0.1238461 , 0.01227514, 0.20669472, ..., 0.14776858, 0.15751532,\n",
              "        0.05767897],\n",
              "       [0.00878922, 0.56094115, 0.04534133, ..., 0.08596594, 0.06815362,\n",
              "        0.01924724]])"
            ]
          },
          "metadata": {},
          "execution_count": 29
        }
      ]
    },
    {
      "cell_type": "markdown",
      "source": [
        "![green-divider](https://user-images.githubusercontent.com/7065401/52071924-c003ad80-2562-11e9-8297-1c6595f8a7ff.png)"
      ],
      "metadata": {
        "id": "_KUPtPoNz7-S"
      }
    },
    {
      "cell_type": "markdown",
      "source": [
        "- Each Column in $A^{[2]}$ has the probabilities of a digit being classified in each of the 10 classes"
      ],
      "metadata": {
        "id": "x_5FAfUW5AFK"
      }
    },
    {
      "cell_type": "code",
      "source": [
        "# check colum 1000\n",
        "A_2[:, 1000]"
      ],
      "metadata": {
        "colab": {
          "base_uri": "https://localhost:8080/"
        },
        "id": "K0-pLTxS0f_z",
        "outputId": "9a54bf74-edc9-42ca-d7e0-a53a1d1fa814"
      },
      "execution_count": 30,
      "outputs": [
        {
          "output_type": "execute_result",
          "data": {
            "text/plain": [
              "array([0.10526465, 0.02410599, 0.02675574, 0.22161143, 0.06107891,\n",
              "       0.2872347 , 0.05036581, 0.01476682, 0.13805659, 0.07075937])"
            ]
          },
          "metadata": {},
          "execution_count": 30
        }
      ]
    },
    {
      "cell_type": "code",
      "source": [
        "# with np.argmax() we get the index of the highest probability\n",
        "np.argmax(A_2[:, 1000])"
      ],
      "metadata": {
        "colab": {
          "base_uri": "https://localhost:8080/"
        },
        "id": "x5onIYV738TK",
        "outputId": "399e098a-1477-4fdc-da21-4ef340239ff0"
      },
      "execution_count": 31,
      "outputs": [
        {
          "output_type": "execute_result",
          "data": {
            "text/plain": [
              "5"
            ]
          },
          "metadata": {},
          "execution_count": 31
        }
      ]
    },
    {
      "cell_type": "markdown",
      "source": [
        "\n",
        "\n",
        "- After Forward Propagating through the Neural Network, with the Randomized Values of $w^{[1]}, w^{[2]}, b^{[1]}, b^{[2]}$, we get that the *Prediction* for the Digit in the $1001^{th}$ position of the *Training Set* is $5$"
      ],
      "metadata": {
        "id": "CTQ6GHbV5ng7"
      }
    },
    {
      "cell_type": "markdown",
      "source": [
        "![green-divider](https://user-images.githubusercontent.com/7065401/52071924-c003ad80-2562-11e9-8297-1c6595f8a7ff.png)"
      ],
      "metadata": {
        "id": "UqtZVDwdtCq5"
      }
    },
    {
      "cell_type": "markdown",
      "source": [
        "#### Forward Propagation Function"
      ],
      "metadata": {
        "id": "K6d-4Fx06aNC"
      }
    },
    {
      "cell_type": "code",
      "source": [
        "# create function to calculate Forward Propagation\n",
        "def calculate_forward_prop(X, w1, b1, w2, b2):\n",
        "  \n",
        "  # Input Layer\n",
        "  A_0 = X\n",
        "\n",
        "  # Layer 1\n",
        "  Z_1 = np.dot(w1, A_0) + b_1\n",
        "  # apply ReLu >> max(0, Z_1)\n",
        "  A_1 = np.maximum(0, Z_1)\n",
        "\n",
        "  # Layer 2\n",
        "  Z_2 = np.dot(w2, A_1) + b_2\n",
        "  # apply Softmax\n",
        "  A_2 = calculate_softmax(Z_2)\n",
        "\n",
        "  return Z_1, A_1, Z_2, A_2\n"
      ],
      "metadata": {
        "id": "eyV7BAV06gFR"
      },
      "execution_count": 32,
      "outputs": []
    },
    {
      "cell_type": "code",
      "source": [
        "# check calculate_forward_prop\n",
        "Z_1_test, A_1_test, Z_2_test, A_2_test = calculate_forward_prop(X_train_T, W_1, b_1, W_2, b_2)\n",
        "\n",
        "A_2_test"
      ],
      "metadata": {
        "colab": {
          "base_uri": "https://localhost:8080/"
        },
        "id": "fijz3OB68IYo",
        "outputId": "7330f83b-2cc3-40d3-ce39-88ed78f1969d"
      },
      "execution_count": 33,
      "outputs": [
        {
          "output_type": "execute_result",
          "data": {
            "text/plain": [
              "array([[0.01521205, 0.00208541, 0.09259022, ..., 0.04254444, 0.04015778,\n",
              "        0.00377254],\n",
              "       [0.07287021, 0.01663899, 0.08003   , ..., 0.0748    , 0.11103604,\n",
              "        0.1582923 ],\n",
              "       [0.00212214, 0.03687331, 0.02948241, ..., 0.06267111, 0.09778996,\n",
              "        0.00207295],\n",
              "       ...,\n",
              "       [0.00579028, 0.01094127, 0.03277427, ..., 0.0861196 , 0.04887817,\n",
              "        0.03149591],\n",
              "       [0.1238461 , 0.01227514, 0.20669472, ..., 0.14776858, 0.15751532,\n",
              "        0.05767897],\n",
              "       [0.00878922, 0.56094115, 0.04534133, ..., 0.08596594, 0.06815362,\n",
              "        0.01924724]])"
            ]
          },
          "metadata": {},
          "execution_count": 33
        }
      ]
    },
    {
      "cell_type": "code",
      "source": [
        "# check prediction of 1000 digit in the Training Set\n",
        "print('Prediction for 1001th digit:', '\\n')\n",
        "print(A_2_test[:, 1000], '\\n')\n",
        "\n",
        "print(f'The Neural Network Predicts that the digit is: {np.argmax(A_2_test[:, 1000])}')"
      ],
      "metadata": {
        "colab": {
          "base_uri": "https://localhost:8080/"
        },
        "id": "AAMiZ_s-8hEE",
        "outputId": "50e1c92d-0ff5-4027-9d74-4989b080983b"
      },
      "execution_count": 34,
      "outputs": [
        {
          "output_type": "stream",
          "name": "stdout",
          "text": [
            "Prediction for 1001th digit: \n",
            "\n",
            "[0.10526465 0.02410599 0.02675574 0.22161143 0.06107891 0.2872347\n",
            " 0.05036581 0.01476682 0.13805659 0.07075937] \n",
            "\n",
            "The Neural Network Predicts that the digit is: 5\n"
          ]
        }
      ]
    },
    {
      "cell_type": "markdown",
      "source": [
        "![purple-divider](https://user-images.githubusercontent.com/7065401/52071927-c1cd7100-2562-11e9-908a-dde91ba14e59.png)"
      ],
      "metadata": {
        "id": "BlnM0rwp4NUV"
      }
    },
    {
      "cell_type": "markdown",
      "source": [
        "### Backward Propagation\n",
        "\n",
        "- To find the Best $W$ and $b$ that Minimize Cost $J$ we *Backward Propagate* the Neural Network from Rigth to Left"
      ],
      "metadata": {
        "id": "D1xGO_vw4Nwu"
      }
    },
    {
      "cell_type": "markdown",
      "source": [
        "![green-divider](https://user-images.githubusercontent.com/7065401/52071924-c003ad80-2562-11e9-8297-1c6595f8a7ff.png)"
      ],
      "metadata": {
        "id": "fzRIOx-n5CDi"
      }
    },
    {
      "cell_type": "markdown",
      "source": [
        "#### Gradients of Second Hidden Layer\n",
        "\n",
        "<br>\n",
        "\n",
        "- $\\partial{Z^{[2]}} =$ Error of the Second Layer\n",
        "\n",
        "  - $\\partial{Z^{[2]}}_{(10 \\times m)} = A^{[2]}_{(10 \\times m)} - Y_{(10 \\times m)}$\n",
        "\n",
        "<br>\n",
        "\n",
        "- Partial Derivative of $J$ with respect to $\\vec{w}^{[2]}$\n",
        "\n",
        "  - $\\partial{\\vec{w}^{[2]}}_{(10 \\times 10)} = \\frac{1}{m} \\times \\partial{Z^{[2]}}_{(10 \\times m)} \\times A^{[1]}.T_{(m \\times 10)}$\n",
        "\n",
        "\n",
        "<br>\n",
        "\n",
        "- Partial Derivative of $J$ with respect to $b^{[2]}$\n",
        "\n",
        "  - $\\partial{b^{[2]}}_{(10 \\times 1)} = \\frac{1}{m} \\sum \\partial{Z^{[2]}}_{(10 \\times m)}$"
      ],
      "metadata": {
        "id": "ieFeuwlk5CdT"
      }
    },
    {
      "cell_type": "markdown",
      "source": [
        "![green-divider](https://user-images.githubusercontent.com/7065401/52071924-c003ad80-2562-11e9-8297-1c6595f8a7ff.png)"
      ],
      "metadata": {
        "id": "YYUa3bH48Y1D"
      }
    },
    {
      "cell_type": "markdown",
      "source": [
        "<br>\n",
        "\n",
        "- $\\partial{Z^{[2]}}$"
      ],
      "metadata": {
        "id": "C5BxH2eT8ZKV"
      }
    },
    {
      "cell_type": "code",
      "source": [
        "# partial dev of Z_2\n",
        "dZ_2 = A_2 - (one_hot_encode_Y(Y_train))\n",
        "\n",
        "# check shape\n",
        "print(f'dZ_2 shape: {dZ_2.shape}', '\\n')\n",
        "\n",
        "# check first 4 columns \n",
        "print('First 4 Colums:')\n",
        "dZ_2[:, 0:4]"
      ],
      "metadata": {
        "colab": {
          "base_uri": "https://localhost:8080/"
        },
        "id": "a7zaXu6s8gOk",
        "outputId": "09913f42-acb2-4760-c4d2-fee1a329ad6f"
      },
      "execution_count": 35,
      "outputs": [
        {
          "output_type": "stream",
          "name": "stdout",
          "text": [
            "dZ_2 shape: (10, 33600) \n",
            "\n",
            "First 4 Colums:\n"
          ]
        },
        {
          "output_type": "execute_result",
          "data": {
            "text/plain": [
              "array([[ 0.01521205,  0.00208541,  0.09259022,  0.00275864],\n",
              "       [ 0.07287021,  0.01663899, -0.91997   ,  0.09007828],\n",
              "       [ 0.00212214,  0.03687331,  0.02948241,  0.00197686],\n",
              "       [ 0.59857736, -0.78530675,  0.21709303,  0.74776535],\n",
              "       [ 0.01444988,  0.02739637,  0.04964477,  0.01189951],\n",
              "       [ 0.15556682,  0.08463222,  0.21323854, -0.92998457],\n",
              "       [ 0.00277595,  0.03352288,  0.0331107 ,  0.00229323],\n",
              "       [ 0.00579028,  0.01094127,  0.03277427,  0.00790689],\n",
              "       [-0.8761539 ,  0.01227514,  0.20669472,  0.05028312],\n",
              "       [ 0.00878922,  0.56094115,  0.04534133,  0.0150227 ]])"
            ]
          },
          "metadata": {},
          "execution_count": 35
        }
      ]
    },
    {
      "cell_type": "markdown",
      "source": [
        "<br>\n",
        "\n",
        "- $\\partial{\\vec{w}^{[2]}}$"
      ],
      "metadata": {
        "id": "Ac_rV1es-P3B"
      }
    },
    {
      "cell_type": "code",
      "source": [
        "# store m\n",
        "m = dZ_2.shape[1]\n",
        "\n",
        "# partial dev of W_2\n",
        "dW_2 = 1/m * np.dot(dZ_2, A_1.T)\n",
        "\n",
        "# check shape\n",
        "print(f'dW_2 shape: {dW_2.shape}', '\\n')\n",
        "\n",
        "# check first 3 columns\n",
        "dW_2[:, 0:3]"
      ],
      "metadata": {
        "colab": {
          "base_uri": "https://localhost:8080/"
        },
        "id": "itMUDtCi-Xwn",
        "outputId": "6bd2dc36-b9af-470c-aa0e-f4016a1723bd"
      },
      "execution_count": 36,
      "outputs": [
        {
          "output_type": "stream",
          "name": "stdout",
          "text": [
            "dW_2 shape: (10, 10) \n",
            "\n"
          ]
        },
        {
          "output_type": "execute_result",
          "data": {
            "text/plain": [
              "array([[-0.22205145, -0.02318381, -0.38271813],\n",
              "       [ 0.01959576,  0.02703111,  0.03400726],\n",
              "       [-0.02420849, -0.17048289, -0.04798481],\n",
              "       [ 0.28433618,  0.94959531,  0.58670449],\n",
              "       [-0.03550948, -0.24657234, -0.0271579 ],\n",
              "       [-0.02654782,  0.0271455 , -0.09360772],\n",
              "       [-0.05152927, -0.11771537, -0.08828404],\n",
              "       [ 0.00349274, -0.06520052, -0.10289411],\n",
              "       [ 0.00270407, -0.1309968 ,  0.01225444],\n",
              "       [ 0.04971775, -0.2496202 ,  0.10968052]])"
            ]
          },
          "metadata": {},
          "execution_count": 36
        }
      ]
    },
    {
      "cell_type": "markdown",
      "source": [
        "<br>\n",
        "\n",
        "- $b^{[2]}$"
      ],
      "metadata": {
        "id": "NoDtlj6-Bsmu"
      }
    },
    {
      "cell_type": "code",
      "source": [
        "# partial dev of b_2\n",
        "db_2 = 1/m * np.sum(dZ_2, axis=1)\n",
        "\n",
        "# check shape\n",
        "print(f'db_2 shape: {db_2.shape}', '\\n')\n",
        "\n",
        "db_2"
      ],
      "metadata": {
        "colab": {
          "base_uri": "https://localhost:8080/"
        },
        "id": "FvJEmMCqBvhr",
        "outputId": "c079a93c-7743-4f4d-f3b8-4799924b6f9f"
      },
      "execution_count": 37,
      "outputs": [
        {
          "output_type": "stream",
          "name": "stdout",
          "text": [
            "db_2 shape: (10,) \n",
            "\n"
          ]
        },
        {
          "output_type": "execute_result",
          "data": {
            "text/plain": [
              "array([-0.04436071, -0.04436594, -0.07081976,  0.29721418, -0.0503465 ,\n",
              "        0.0261422 , -0.07062958, -0.05202582,  0.02968207, -0.02049014])"
            ]
          },
          "metadata": {},
          "execution_count": 37
        }
      ]
    },
    {
      "cell_type": "markdown",
      "source": [
        "![green-divider](https://user-images.githubusercontent.com/7065401/52071924-c003ad80-2562-11e9-8297-1c6595f8a7ff.png)"
      ],
      "metadata": {
        "id": "kxLYx-Gg7G69"
      }
    },
    {
      "cell_type": "markdown",
      "source": [
        "#### Gradients of First Hidden Layer\n",
        "\n",
        "<br>\n",
        "\n",
        "- $\\partial{Z^{[1]}}:$ we take the Error of the Second Layer and apply the errors in Reverse to get the Error of the First Layer\n",
        "\n",
        "  - We Undo the Activation Function ReLu by multiplying by its Derivative\n",
        "\n",
        "    - $\\partial{ReLu} = $ $1$ if $Z > 0$, else $0$\n",
        "\n",
        "  <br>\n",
        "\n",
        "  - $\\partial{Z^{[1]}}_{(10 \\times m)} = \\vec{w}^{[2]}.T_{(10 \\times 10)} \\times \\partial{Z^{[2]}}_{(10 \\times m)} \\times \\partial{ReLu(Z^{[1]})}_{(10 \\times m)}$\n",
        "\n",
        "<br>\n",
        "\n",
        "- Partial Derivative of $J$ with respect to $\\vec{w}^{[1]}$\n",
        "\n",
        "  - $\\partial{\\vec{w}^{[1]}}_{(10 \\times 784)} = \\frac{1}{m} \\times \\partial{Z^{[1]}}_{(10 \\times m)} \\times X.T_{(m \\times 784)}$\n",
        "\n",
        "<br>\n",
        "\n",
        "- Partial Derivative of $J$ with respect to $b^{[1]}$\n",
        "\n",
        "  - $\\partial{b^{[1]}}_{(10 \\times 1)} = \\frac{1}{m} \\sum \\partial{Z^{[1]}}_{10 \\times m}$\n",
        "\n"
      ],
      "metadata": {
        "id": "XxGoCRxI7HY9"
      }
    },
    {
      "cell_type": "markdown",
      "source": [
        "![green-divider](https://user-images.githubusercontent.com/7065401/52071924-c003ad80-2562-11e9-8297-1c6595f8a7ff.png)"
      ],
      "metadata": {
        "id": "scDsO1Hr_BGQ"
      }
    },
    {
      "cell_type": "markdown",
      "source": [
        "<br>\n",
        "\n",
        "- $\\partial{ReLu(Z^{[1]})}$"
      ],
      "metadata": {
        "id": "j8Bp-Yxr_BvI"
      }
    },
    {
      "cell_type": "code",
      "source": [
        "# Partial Dev of ReLu == 1 if Z > 0 else 0\n",
        "def dev_ReLu(Z):\n",
        "  return Z > 0\n",
        "\n",
        "# test function\n",
        "dReLu_test = dev_ReLu(Z_1)\n",
        "\n",
        "# check shape\n",
        "print(f'dReLu_test shape: {dReLu_test.shape}', '\\n')\n",
        "\n",
        "dReLu_test"
      ],
      "metadata": {
        "colab": {
          "base_uri": "https://localhost:8080/"
        },
        "id": "Uv_zj1Sy_OXy",
        "outputId": "b3815687-5901-4db6-f12c-4d07ad33a881"
      },
      "execution_count": 38,
      "outputs": [
        {
          "output_type": "stream",
          "name": "stdout",
          "text": [
            "dReLu_test shape: (10, 33600) \n",
            "\n"
          ]
        },
        {
          "output_type": "execute_result",
          "data": {
            "text/plain": [
              "array([[False,  True, False, ..., False, False, False],\n",
              "       [ True,  True,  True, ...,  True,  True,  True],\n",
              "       [False,  True, False, ...,  True,  True,  True],\n",
              "       ...,\n",
              "       [False,  True, False, ..., False, False, False],\n",
              "       [ True, False, False, ..., False, False,  True],\n",
              "       [ True, False,  True, ...,  True,  True,  True]])"
            ]
          },
          "metadata": {},
          "execution_count": 38
        }
      ]
    },
    {
      "cell_type": "markdown",
      "source": [
        "<br>\n",
        "\n",
        "- $\\partial{Z^{[1]}}$"
      ],
      "metadata": {
        "id": "xFBUt6AAAPnM"
      }
    },
    {
      "cell_type": "code",
      "source": [
        "# partial dev of Z_1\n",
        "dZ_1 = np.dot(W_2.T, dZ_2) * dev_ReLu(Z_1)\n",
        "\n",
        "# check shape\n",
        "print(f'dZ_1 shape: {dZ_1.shape}', '\\n')\n",
        "\n",
        "# check first 3 cols\n",
        "dZ_1[:, 0:3]"
      ],
      "metadata": {
        "colab": {
          "base_uri": "https://localhost:8080/"
        },
        "id": "wjxgubYrATez",
        "outputId": "da003b95-3f10-4f15-ce39-8ddc162ce2fb"
      },
      "execution_count": 39,
      "outputs": [
        {
          "output_type": "stream",
          "name": "stdout",
          "text": [
            "dZ_1 shape: (10, 33600) \n",
            "\n"
          ]
        },
        {
          "output_type": "execute_result",
          "data": {
            "text/plain": [
              "array([[ 0.        , -0.25812944, -0.        ],\n",
              "       [ 0.15821459, -0.27967777,  0.0408127 ],\n",
              "       [ 0.        , -0.01232242,  0.        ],\n",
              "       [-0.3365799 , -0.        , -0.        ],\n",
              "       [-0.13969022, -0.21431683,  0.30613819],\n",
              "       [-0.        , -0.        ,  0.        ],\n",
              "       [ 0.07165455, -0.05337109,  0.21860747],\n",
              "       [ 0.        ,  0.24927442,  0.        ],\n",
              "       [ 0.41705291, -0.        , -0.        ],\n",
              "       [-0.08799989, -0.        , -0.20076436]])"
            ]
          },
          "metadata": {},
          "execution_count": 39
        }
      ]
    },
    {
      "cell_type": "markdown",
      "source": [
        "<br>\n",
        "\n",
        "- $\\partial{\\vec{w}^{[1]}}$"
      ],
      "metadata": {
        "id": "U2-rKx72C7LK"
      }
    },
    {
      "cell_type": "code",
      "source": [
        "# partial dev of W_1\n",
        "dW_1 = 1/m * np.dot(dZ_1, X_train_T.T)\n",
        "\n",
        "# check shape\n",
        "print(f'dW_1 shape: {dW_1.shape}', '\\n')\n",
        "\n",
        "# check 3 cols\n",
        "dW_1[: , 100:103]"
      ],
      "metadata": {
        "colab": {
          "base_uri": "https://localhost:8080/"
        },
        "id": "ssdS8L2ADBJi",
        "outputId": "87a8b286-29af-4c7c-cf0c-9850db5e7826"
      },
      "execution_count": 40,
      "outputs": [
        {
          "output_type": "stream",
          "name": "stdout",
          "text": [
            "dW_1 shape: (10, 784) \n",
            "\n"
          ]
        },
        {
          "output_type": "execute_result",
          "data": {
            "text/plain": [
              "array([[ 0.00721105,  0.00448545,  0.00232921],\n",
              "       [ 0.00820526,  0.00660477,  0.00498378],\n",
              "       [ 0.00510856,  0.00485417,  0.00394318],\n",
              "       [ 0.00056633,  0.0007026 ,  0.00071435],\n",
              "       [ 0.0135794 ,  0.01065096,  0.00683756],\n",
              "       [-0.00708024, -0.0055774 , -0.00372028],\n",
              "       [ 0.00255774,  0.00278512,  0.00222427],\n",
              "       [ 0.00071086,  0.00056846,  0.00043332],\n",
              "       [ 0.00266713,  0.00258704,  0.00219644],\n",
              "       [ 0.00597232,  0.00483368,  0.00310274]])"
            ]
          },
          "metadata": {},
          "execution_count": 40
        }
      ]
    },
    {
      "cell_type": "markdown",
      "source": [
        "<br>\n",
        "\n",
        "- $\\partial{b^{[1]}}$"
      ],
      "metadata": {
        "id": "V8ylH6jYD3ak"
      }
    },
    {
      "cell_type": "code",
      "source": [
        "# partial dev of b_1\n",
        "db_1 = 1/m * np.sum(dZ_1, axis=1)\n",
        "\n",
        "# check shape\n",
        "print(f'db_1 shape: {db_1.shape}', '\\n')\n",
        "\n",
        "db_1"
      ],
      "metadata": {
        "colab": {
          "base_uri": "https://localhost:8080/"
        },
        "id": "jzcJNDEeEB-0",
        "outputId": "f3161f70-b9da-4cc2-fdde-3bbfa219a18c"
      },
      "execution_count": 41,
      "outputs": [
        {
          "output_type": "stream",
          "name": "stdout",
          "text": [
            "db_1 shape: (10,) \n",
            "\n"
          ]
        },
        {
          "output_type": "execute_result",
          "data": {
            "text/plain": [
              "array([ 0.09434682,  0.04509378,  0.10915524,  0.00977728,  0.17034329,\n",
              "       -0.0007126 ,  0.06147708, -0.002135  ,  0.13153974,  0.06774375])"
            ]
          },
          "metadata": {},
          "execution_count": 41
        }
      ]
    },
    {
      "cell_type": "markdown",
      "source": [
        "![green-divider](https://user-images.githubusercontent.com/7065401/52071924-c003ad80-2562-11e9-8297-1c6595f8a7ff.png)"
      ],
      "metadata": {
        "id": "EgD_pwBg6ZIC"
      }
    },
    {
      "cell_type": "markdown",
      "source": [
        "#### Backward Propagation Function"
      ],
      "metadata": {
        "id": "_ewWThJ_EvJ5"
      }
    },
    {
      "cell_type": "code",
      "source": [
        "# function to calculate Backward Propagation\n",
        "def calculate_backward_prop(X, Y, a2, z2, w2, a1, z1):\n",
        "\n",
        "  # store m\n",
        "  m = X.shape[1]\n",
        "\n",
        "  '''Second Layer'''\n",
        "  # error\n",
        "  dZ_2 = a2 - one_hot_encode_Y(Y)\n",
        "  # partial dev of W_2\n",
        "  dW_2 = 1/m * np.dot(dZ_2, a1.T)\n",
        "  # partial dev of b_2\n",
        "  db_2 = 1/m * np.sum(dZ_2, axis=1) # sum column wise\n",
        "\n",
        "  '''First Layer'''\n",
        "  # error\n",
        "  dZ_1 = np.dot(w2.T, dZ_2) * dev_ReLu(z1)\n",
        "  # partial dev of W_1\n",
        "  dW_1 = 1/m * np.dot(dZ_1, X.T)\n",
        "  # partial dev of b_1\n",
        "  db_1 = 1/m * np.sum(dZ_1, axis=1) # sum column wise\n",
        "\n",
        "  return dZ_2, dW_2, db_2, dZ_1, dW_1, db_1\n",
        "\n"
      ],
      "metadata": {
        "id": "TrR9JSlvEx09"
      },
      "execution_count": 42,
      "outputs": []
    },
    {
      "cell_type": "markdown",
      "source": [
        "![purple-divider](https://user-images.githubusercontent.com/7065401/52071927-c1cd7100-2562-11e9-908a-dde91ba14e59.png)"
      ],
      "metadata": {
        "id": "kZDYyYp1H_eD"
      }
    },
    {
      "cell_type": "markdown",
      "source": [
        "### Gradient Descent \n",
        "\n",
        "- **Update Parameters Until Convergence**\n",
        "\n",
        "<br>\n",
        "\n",
        "$$ \\vec{w}^{[2]} = \\vec{w}^{[2]} - \\alpha \\times \\partial{\\vec{w}^{[2]}}$$\n",
        "<br>\n",
        "$$ b^{[2]} = b^{[2]} - \\alpha \\times \\partial{b^{[2]}} $$\n",
        "<br>\n",
        "$$\\vec{w}^{[1]} = \\vec{w}^{[1]} - \\alpha \\times \\partial{\\vec{w}^{[1]}}$$\n",
        "<br>\n",
        "$$ b^{[1]} = b^{[1]} - \\alpha \\times \\partial{b^{[1]}} $$\n",
        "\n",
        "<br>\n"
      ],
      "metadata": {
        "id": "UeDqNx_YIACD"
      }
    },
    {
      "cell_type": "code",
      "source": [
        "# function to calculate gradient descent\n",
        "def calculate_gradient_descent(X, Y, w1, b1, w2, b2, alpha, num_iter, calculate_forward_prop, calculate_backward_prop):\n",
        "\n",
        "  '''Calculate Batch Gradient Descent to find the best\n",
        "     Parameters that Minimize Cost'''\n",
        "\n",
        "  for i in range(num_iter):\n",
        "\n",
        "    # Forward Propagate Neural Network\n",
        "    Z_1, A_1, Z_2, A_2 = calculate_forward_prop(X, w1, b1, w2, b2)\n",
        "\n",
        "    # Backward Propagate to find Gradients\n",
        "    dZ_2, dW_2, db_2, dZ_1, dW_1, db_1 = calculate_backward_prop(X, Y, A_2, Z_2, w2, A_1, Z_1)\n",
        "\n",
        "    # Update Params\n",
        "    w2 = w2 - alpha * dW_2\n",
        "    b2 = b2 - alpha * db_2\n",
        "    w1 = w1 - alpha * dW_1\n",
        "    b1 = b1 - alpha * db_1\n",
        "\n",
        "    if i % 10 == 0:\n",
        "      # calculate predictions of ith iteration\n",
        "      predictions = np.argmax(A_2, axis=0) # returns the index of the Highest Probability in the array\n",
        "      # calculate accuracy of ith iteration\n",
        "      accuracy = np.sum(predictions == Y) / Y.size\n",
        "      print(f'Iteration: {i}, Predictions: {predictions}, Y: {Y}, Accuracy: {accuracy:.4f}')\n",
        "\n",
        "  \n",
        "  return w2, b2, w1, b1\n",
        "\n"
      ],
      "metadata": {
        "id": "I7DKTzxiI0Pb"
      },
      "execution_count": 43,
      "outputs": []
    },
    {
      "cell_type": "code",
      "source": [
        "# run gradient descent\n",
        "\n",
        "# set alpha and num_iter\n",
        "alpha = 0.1\n",
        "num_iter = 500\n",
        "\n",
        "W_2f, b_2f, W_1f, b_1f = calculate_gradient_descent(X_train_T, Y_train, W_1, b_1, W_2, b_2, alpha, num_iter,\n",
        "                                                    calculate_forward_prop, calculate_backward_prop)\n"
      ],
      "metadata": {
        "colab": {
          "base_uri": "https://localhost:8080/"
        },
        "id": "wYqaZ0wiNOmM",
        "outputId": "88d2e129-8f6b-4896-99fe-d4b3295bd329"
      },
      "execution_count": 44,
      "outputs": [
        {
          "output_type": "stream",
          "name": "stdout",
          "text": [
            "Iteration: 0, Predictions: [3 9 3 ... 3 3 3], Y: [8 3 1 ... 5 1 9], Accuracy: 0.1082\n",
            "Iteration: 10, Predictions: [8 9 8 ... 8 1 1], Y: [8 3 1 ... 5 1 9], Accuracy: 0.1878\n",
            "Iteration: 20, Predictions: [3 9 1 ... 8 1 1], Y: [8 3 1 ... 5 1 9], Accuracy: 0.2870\n",
            "Iteration: 30, Predictions: [3 9 1 ... 1 1 1], Y: [8 3 1 ... 5 1 9], Accuracy: 0.3559\n",
            "Iteration: 40, Predictions: [3 9 1 ... 3 1 3], Y: [8 3 1 ... 5 1 9], Accuracy: 0.4104\n",
            "Iteration: 50, Predictions: [3 9 1 ... 3 1 3], Y: [8 3 1 ... 5 1 9], Accuracy: 0.4519\n",
            "Iteration: 60, Predictions: [3 9 1 ... 8 1 3], Y: [8 3 1 ... 5 1 9], Accuracy: 0.4867\n",
            "Iteration: 70, Predictions: [3 9 1 ... 8 1 9], Y: [8 3 1 ... 5 1 9], Accuracy: 0.5189\n",
            "Iteration: 80, Predictions: [3 3 1 ... 8 1 9], Y: [8 3 1 ... 5 1 9], Accuracy: 0.5481\n",
            "Iteration: 90, Predictions: [3 3 1 ... 8 1 9], Y: [8 3 1 ... 5 1 9], Accuracy: 0.5759\n",
            "Iteration: 100, Predictions: [3 3 1 ... 8 1 9], Y: [8 3 1 ... 5 1 9], Accuracy: 0.5995\n",
            "Iteration: 110, Predictions: [3 3 1 ... 5 1 9], Y: [8 3 1 ... 5 1 9], Accuracy: 0.6220\n",
            "Iteration: 120, Predictions: [3 3 1 ... 5 1 9], Y: [8 3 1 ... 5 1 9], Accuracy: 0.6403\n",
            "Iteration: 130, Predictions: [3 3 1 ... 5 1 9], Y: [8 3 1 ... 5 1 9], Accuracy: 0.6564\n",
            "Iteration: 140, Predictions: [3 3 1 ... 5 1 9], Y: [8 3 1 ... 5 1 9], Accuracy: 0.6717\n",
            "Iteration: 150, Predictions: [3 3 1 ... 5 1 9], Y: [8 3 1 ... 5 1 9], Accuracy: 0.6845\n",
            "Iteration: 160, Predictions: [3 3 1 ... 5 1 9], Y: [8 3 1 ... 5 1 9], Accuracy: 0.6963\n",
            "Iteration: 170, Predictions: [3 3 1 ... 5 1 9], Y: [8 3 1 ... 5 1 9], Accuracy: 0.7066\n",
            "Iteration: 180, Predictions: [3 3 1 ... 5 1 9], Y: [8 3 1 ... 5 1 9], Accuracy: 0.7168\n",
            "Iteration: 190, Predictions: [3 3 1 ... 5 1 9], Y: [8 3 1 ... 5 1 9], Accuracy: 0.7260\n",
            "Iteration: 200, Predictions: [3 3 1 ... 5 1 9], Y: [8 3 1 ... 5 1 9], Accuracy: 0.7330\n",
            "Iteration: 210, Predictions: [3 3 1 ... 5 1 9], Y: [8 3 1 ... 5 1 9], Accuracy: 0.7401\n",
            "Iteration: 220, Predictions: [3 3 1 ... 5 1 9], Y: [8 3 1 ... 5 1 9], Accuracy: 0.7472\n",
            "Iteration: 230, Predictions: [3 3 1 ... 5 1 9], Y: [8 3 1 ... 5 1 9], Accuracy: 0.7532\n",
            "Iteration: 240, Predictions: [8 3 1 ... 5 1 9], Y: [8 3 1 ... 5 1 9], Accuracy: 0.7591\n",
            "Iteration: 250, Predictions: [8 3 1 ... 5 1 9], Y: [8 3 1 ... 5 1 9], Accuracy: 0.7651\n",
            "Iteration: 260, Predictions: [8 3 1 ... 5 1 9], Y: [8 3 1 ... 5 1 9], Accuracy: 0.7706\n",
            "Iteration: 270, Predictions: [8 3 1 ... 5 1 9], Y: [8 3 1 ... 5 1 9], Accuracy: 0.7759\n",
            "Iteration: 280, Predictions: [8 3 1 ... 5 1 9], Y: [8 3 1 ... 5 1 9], Accuracy: 0.7810\n",
            "Iteration: 290, Predictions: [8 3 1 ... 5 1 9], Y: [8 3 1 ... 5 1 9], Accuracy: 0.7853\n",
            "Iteration: 300, Predictions: [8 3 1 ... 5 1 9], Y: [8 3 1 ... 5 1 9], Accuracy: 0.7889\n",
            "Iteration: 310, Predictions: [8 3 1 ... 5 1 9], Y: [8 3 1 ... 5 1 9], Accuracy: 0.7933\n",
            "Iteration: 320, Predictions: [8 3 1 ... 5 1 9], Y: [8 3 1 ... 5 1 9], Accuracy: 0.7974\n",
            "Iteration: 330, Predictions: [8 3 1 ... 5 1 9], Y: [8 3 1 ... 5 1 9], Accuracy: 0.8012\n",
            "Iteration: 340, Predictions: [8 3 1 ... 5 1 9], Y: [8 3 1 ... 5 1 9], Accuracy: 0.8049\n",
            "Iteration: 350, Predictions: [8 3 1 ... 5 1 9], Y: [8 3 1 ... 5 1 9], Accuracy: 0.8087\n",
            "Iteration: 360, Predictions: [8 3 1 ... 5 1 9], Y: [8 3 1 ... 5 1 9], Accuracy: 0.8121\n",
            "Iteration: 370, Predictions: [8 3 1 ... 5 1 9], Y: [8 3 1 ... 5 1 9], Accuracy: 0.8153\n",
            "Iteration: 380, Predictions: [8 3 1 ... 5 1 9], Y: [8 3 1 ... 5 1 9], Accuracy: 0.8191\n",
            "Iteration: 390, Predictions: [8 3 1 ... 5 1 9], Y: [8 3 1 ... 5 1 9], Accuracy: 0.8224\n",
            "Iteration: 400, Predictions: [8 3 1 ... 5 1 9], Y: [8 3 1 ... 5 1 9], Accuracy: 0.8253\n",
            "Iteration: 410, Predictions: [8 3 1 ... 5 1 9], Y: [8 3 1 ... 5 1 9], Accuracy: 0.8284\n",
            "Iteration: 420, Predictions: [8 3 1 ... 5 1 9], Y: [8 3 1 ... 5 1 9], Accuracy: 0.8311\n",
            "Iteration: 430, Predictions: [8 3 1 ... 5 1 9], Y: [8 3 1 ... 5 1 9], Accuracy: 0.8332\n",
            "Iteration: 440, Predictions: [8 3 1 ... 5 1 9], Y: [8 3 1 ... 5 1 9], Accuracy: 0.8354\n",
            "Iteration: 450, Predictions: [8 3 1 ... 5 1 9], Y: [8 3 1 ... 5 1 9], Accuracy: 0.8374\n",
            "Iteration: 460, Predictions: [8 3 1 ... 5 1 9], Y: [8 3 1 ... 5 1 9], Accuracy: 0.8389\n",
            "Iteration: 470, Predictions: [8 3 1 ... 5 1 9], Y: [8 3 1 ... 5 1 9], Accuracy: 0.8406\n",
            "Iteration: 480, Predictions: [8 3 1 ... 5 1 9], Y: [8 3 1 ... 5 1 9], Accuracy: 0.8427\n",
            "Iteration: 490, Predictions: [8 3 1 ... 5 1 9], Y: [8 3 1 ... 5 1 9], Accuracy: 0.8445\n"
          ]
        }
      ]
    },
    {
      "cell_type": "code",
      "source": [
        "# Best Params that minimize Cost J\n",
        "\n",
        "# W_1\n",
        "print(f'Shape of W_1f: {W_1f.shape}')\n",
        "print(W_1f[:, 0:4], '\\n')\n",
        "\n",
        "# b_1\n",
        "print(f'Shape of b_1f: {b_1f.shape}')\n",
        "print(b_1f[:, 0:4], '\\n')\n",
        "\n",
        "# W_2\n",
        "print(f'Shape of W_2f: {W_2f.shape}')\n",
        "print(W_2f[:, 0:4], '\\n')\n",
        "\n",
        "# b_2\n",
        "print(f'Shape of b_2f: {b_2f.shape}')\n",
        "print(b_2f[:, 0:4])"
      ],
      "metadata": {
        "colab": {
          "base_uri": "https://localhost:8080/"
        },
        "id": "X4JYclhEEmIq",
        "outputId": "c413e571-8e13-4134-b1e0-abb137656185"
      },
      "execution_count": 45,
      "outputs": [
        {
          "output_type": "stream",
          "name": "stdout",
          "text": [
            "Shape of W_1f: (10, 784)\n",
            "[[ 0.10018526  0.27024152 -0.10425398 -0.13121196]\n",
            " [-0.01246459 -0.2273114  -0.3945854   0.21282237]\n",
            " [-0.13811131 -0.25510075  0.36400978 -0.20450945]\n",
            " [ 0.09011642  0.29569363  0.19264943 -0.06993796]\n",
            " [ 0.31307724 -0.40782187  0.18249466  0.2127946 ]\n",
            " [ 0.14168542  0.34202583 -0.39394067  0.04325267]\n",
            " [-0.13507392 -0.30693353 -0.05911382 -0.1313257 ]\n",
            " [ 0.41321483  0.11459695  0.18882371  0.08697759]\n",
            " [ 0.4252755  -0.06092248 -0.25681464 -0.341997  ]\n",
            " [-0.20625993  0.38042493 -0.4093005  -0.35601516]] \n",
            "\n",
            "Shape of b_1f: (10, 10)\n",
            "[[ 0.01108872  0.20892499  0.20169646  0.10387734]\n",
            " [-0.24932593 -0.05148967 -0.0587182  -0.15653732]\n",
            " [ 0.23761604  0.43545231  0.42822378  0.33040466]\n",
            " [-0.0601306   0.13770567  0.13047714  0.03265802]\n",
            " [ 0.39504116  0.59287743  0.58564889  0.48782977]\n",
            " [-0.39922006 -0.2013838  -0.20861233 -0.30643145]\n",
            " [-0.07103488  0.12680138  0.11957285  0.02175373]\n",
            " [-0.02058882  0.17724745  0.17001892  0.07219979]\n",
            " [-0.21320247 -0.01536621 -0.02259474 -0.12041386]\n",
            " [-0.45586103 -0.25802476 -0.26525329 -0.36307242]] \n",
            "\n",
            "Shape of W_2f: (10, 10)\n",
            "[[-0.03158314  0.61687764  0.4928215   0.28995903]\n",
            " [ 0.16613731 -0.87829364 -0.43637438  0.28315468]\n",
            " [ 0.11579733 -0.42155109 -0.08883174  0.51500616]\n",
            " [ 0.14639144 -0.17241008  0.2404807   0.19007482]\n",
            " [-0.40553901  0.41353606 -0.54516349 -0.34139945]\n",
            " [ 0.32431572  0.35947383  0.34599552 -0.30448141]\n",
            " [-0.18205045 -0.33738307 -0.1636036  -0.52887829]\n",
            " [-0.39560626 -0.40205455  0.62546293  0.49470694]\n",
            " [-0.16025659  0.25031363 -0.32645911  0.0235496 ]\n",
            " [-0.09682497  0.09308857 -0.04341184  0.11264639]] \n",
            "\n",
            "Shape of b_2f: (10, 10)\n",
            "[[-2.15894106e-01  3.83210772e-02 -1.96004367e-01 -5.22999925e-01]\n",
            " [ 4.67667948e-02  3.00981978e-01  6.66565332e-02 -2.60339024e-01]\n",
            " [ 3.50525629e-01  6.04740812e-01  3.70415367e-01  4.34198097e-02]\n",
            " [-1.49599514e-01  1.04615668e-01 -1.29709776e-01 -4.56705333e-01]\n",
            " [-4.55032218e-02  2.08711961e-01 -2.56134834e-02 -3.52609041e-01]\n",
            " [ 1.17876981e-01  3.72092164e-01  1.37766720e-01 -1.89228838e-01]\n",
            " [-1.36777209e-01  1.17437974e-01 -1.16887470e-01 -4.43883028e-01]\n",
            " [-6.05799969e-02  1.93635186e-01 -4.06902585e-02 -3.67685816e-01]\n",
            " [-2.71761423e-02  2.27039041e-01 -7.28640385e-03 -3.34281961e-01]\n",
            " [ 2.27079310e-04  2.54442262e-01  2.01168177e-02 -3.06878740e-01]]\n"
          ]
        }
      ]
    },
    {
      "cell_type": "markdown",
      "source": [
        "![purple-divider](https://user-images.githubusercontent.com/7065401/52071927-c1cd7100-2562-11e9-908a-dde91ba14e59.png)"
      ],
      "metadata": {
        "id": "tm1Lxd1tGKIJ"
      }
    },
    {
      "cell_type": "markdown",
      "source": [
        "### Accuracy on Test Dataset\n"
      ],
      "metadata": {
        "id": "MANGSDB_GLEl"
      }
    },
    {
      "cell_type": "markdown",
      "source": [
        "![green-divider](https://user-images.githubusercontent.com/7065401/52071924-c003ad80-2562-11e9-8297-1c6595f8a7ff.png)"
      ],
      "metadata": {
        "id": "PZ0jHqu9Gpt-"
      }
    },
    {
      "cell_type": "markdown",
      "source": [
        "#### Forward Propagate Neural Network on Test Dataset"
      ],
      "metadata": {
        "id": "zv9imshmGqEn"
      }
    },
    {
      "cell_type": "code",
      "source": [
        "# forward propagate with Paramns that Minimize Cost J\n",
        "Z_1t, A_1t, Z_2t, A_2t = calculate_forward_prop(X_test_T, W_1f, b_1f, W_2f, b_2f)\n",
        "\n",
        "# check shape of A_2t\n",
        "print(f'A_2t shape: {A_2t.shape}', '\\n')\n",
        "\n",
        "# check first 4 cols\n",
        "A_2t[:, 0:4]"
      ],
      "metadata": {
        "colab": {
          "base_uri": "https://localhost:8080/"
        },
        "id": "LQkGkAHCGxlw",
        "outputId": "08daac3f-dd7d-41b2-a206-a61596f65b98"
      },
      "execution_count": 46,
      "outputs": [
        {
          "output_type": "stream",
          "name": "stdout",
          "text": [
            "A_2t shape: (10, 8400) \n",
            "\n"
          ]
        },
        {
          "output_type": "execute_result",
          "data": {
            "text/plain": [
              "array([[2.67968713e-05, 8.26495488e-06, 4.48430636e-02, 1.97008757e-04],\n",
              "       [9.98572477e-09, 4.63796875e-09, 4.96396246e-07, 7.73450011e-08],\n",
              "       [9.13656183e-04, 3.54389066e-04, 2.15670412e-03, 4.47837032e-03],\n",
              "       [1.27297768e-04, 1.59632362e-08, 1.31049935e-02, 2.45505693e-05],\n",
              "       [3.07588998e-02, 6.35396029e-05, 1.18078845e-04, 3.46130410e-01],\n",
              "       [2.66780041e-04, 1.54197941e-05, 9.05039358e-01, 3.48760069e-04],\n",
              "       [4.99192273e-02, 9.99484207e-01, 4.63846633e-03, 6.38748301e-01],\n",
              "       [5.72034770e-01, 1.16633046e-08, 2.76288275e-06, 9.62538813e-05],\n",
              "       [3.65423445e-02, 7.28376470e-05, 2.98186063e-02, 3.84041334e-03],\n",
              "       [3.09410217e-01, 1.30961539e-06, 2.77470324e-04, 6.13585492e-03]])"
            ]
          },
          "metadata": {},
          "execution_count": 46
        }
      ]
    },
    {
      "cell_type": "markdown",
      "source": [
        "![green-divider](https://user-images.githubusercontent.com/7065401/52071924-c003ad80-2562-11e9-8297-1c6595f8a7ff.png)"
      ],
      "metadata": {
        "id": "Escw7NIrHov9"
      }
    },
    {
      "cell_type": "markdown",
      "source": [
        "#### Get Predictions"
      ],
      "metadata": {
        "id": "KdPPWlYUHpKV"
      }
    },
    {
      "cell_type": "code",
      "source": [
        "# get Predictions of A_2t with np.argmax()\n",
        "predictions = np.argmax(A_2t, axis=0)\n",
        "\n",
        "# check shape\n",
        "print(f'Predictions shape: {predictions.shape}', '\\n')\n",
        "# check first 100 predictions\n",
        "print('First 100 predictions:')\n",
        "print(predictions[:100], '\\n')\n",
        "\n",
        "# check first 100 labels\n",
        "print('First 100 labels:')\n",
        "print(Y_test[:100])"
      ],
      "metadata": {
        "colab": {
          "base_uri": "https://localhost:8080/"
        },
        "id": "vzBy6U4vHtJ2",
        "outputId": "82dfb649-4331-46e9-9ed7-0946cff6154c"
      },
      "execution_count": 47,
      "outputs": [
        {
          "output_type": "stream",
          "name": "stdout",
          "text": [
            "Predictions shape: (8400,) \n",
            "\n",
            "First 100 predictions:\n",
            "[7 6 5 6 9 5 9 9 7 6 0 4 4 9 1 1 8 7 3 1 7 6 7 4 4 1 3 0 7 5 2 2 7 8 2 1 6\n",
            " 7 8 7 2 1 9 3 6 9 1 0 6 5 1 9 9 6 6 4 9 8 3 2 3 1 1 0 0 9 8 8 4 3 4 3 0 8\n",
            " 1 6 2 2 6 7 5 3 3 9 3 9 1 1 4 0 6 6 3 1 9 6 4 3 3 0] \n",
            "\n",
            "First 100 labels:\n",
            "[7 6 5 6 8 0 9 9 7 6 0 4 4 9 1 1 8 7 3 1 7 6 7 8 4 1 3 0 2 5 2 2 7 8 2 1 4\n",
            " 7 8 7 2 1 9 2 6 9 1 0 2 5 1 4 9 4 6 4 9 8 3 5 3 1 1 0 0 9 8 5 4 3 4 3 0 8\n",
            " 1 6 2 2 2 7 5 3 3 9 3 8 1 1 4 0 6 6 3 1 9 6 4 3 3 0]\n"
          ]
        }
      ]
    },
    {
      "cell_type": "markdown",
      "source": [
        "![green-divider](https://user-images.githubusercontent.com/7065401/52071924-c003ad80-2562-11e9-8297-1c6595f8a7ff.png)"
      ],
      "metadata": {
        "id": "D4UefJXhInN0"
      }
    },
    {
      "cell_type": "markdown",
      "source": [
        "#### Accuracy of Neural Network Model\n",
        "\n",
        "<br>\n",
        "\n",
        "$$ Accuracy = \\frac{\\text{Correct Predictions}}{\\text{Total Number of Labels}} $$\n",
        "\n",
        "<br>\n"
      ],
      "metadata": {
        "id": "iQRcawp5Inn9"
      }
    },
    {
      "cell_type": "code",
      "source": [
        "# calculate Accuracy\n",
        "accuracy = np.sum(predictions == Y_test) / Y_test.size\n",
        "\n",
        "print(f'The Accuracy of the Neural Network on the Test Dataset is: {accuracy:.4f}')"
      ],
      "metadata": {
        "colab": {
          "base_uri": "https://localhost:8080/"
        },
        "id": "t_H23rLXJDno",
        "outputId": "a740a187-027c-49de-d4b4-4e57933e3934"
      },
      "execution_count": 48,
      "outputs": [
        {
          "output_type": "stream",
          "name": "stdout",
          "text": [
            "The Accuracy of the Neural Network on the Test Dataset is: 0.8323\n"
          ]
        }
      ]
    },
    {
      "cell_type": "markdown",
      "source": [
        "- **An Accuracy of 0.8323 on the Test Dataset means that on average, the Neural Network correctly classifies a Hand Written Digit 83.23% of the times on New Data**"
      ],
      "metadata": {
        "id": "KG-e9HhWLXAw"
      }
    },
    {
      "cell_type": "markdown",
      "source": [
        "![purple-divider](https://user-images.githubusercontent.com/7065401/52071927-c1cd7100-2562-11e9-908a-dde91ba14e59.png)"
      ],
      "metadata": {
        "id": "cOAjTblIFZDD"
      }
    },
    {
      "cell_type": "markdown",
      "source": [
        "### Show Predictions with Hand Written Digit Image"
      ],
      "metadata": {
        "id": "h3cKTS0VFNbF"
      }
    },
    {
      "cell_type": "code",
      "source": [
        "# prediction at index 17\n",
        "prediction_17 = predictions[17]\n",
        "print(f'Prediction at Index 17: {prediction_17}')\n",
        "\n",
        "# label at index 17\n",
        "label_17 = Y_test[17]\n",
        "print(f'Label at Index 17: {label_17}', '\\n')\n",
        "\n",
        "# image at index 17\n",
        "X_test_17 = X_test[17]\n",
        "# each image is 28 * 28 >> reshape\n",
        "img_17 = X_test_17.reshape(28, 28)\n",
        "\n",
        "# show img\n",
        "plt.gray() # set colormap to gray\n",
        "plt.imshow(img_17, interpolation='nearest')\n",
        "\n",
        "plt.show()"
      ],
      "metadata": {
        "colab": {
          "base_uri": "https://localhost:8080/",
          "height": 322
        },
        "id": "Ux3Y_6b3FgZl",
        "outputId": "65d10771-6d5f-42e0-fa21-8c50ae1c3bc4"
      },
      "execution_count": 49,
      "outputs": [
        {
          "output_type": "stream",
          "name": "stdout",
          "text": [
            "Prediction at Index 17: 7\n",
            "Label at Index 17: 7 \n",
            "\n"
          ]
        },
        {
          "output_type": "display_data",
          "data": {
            "text/plain": [
              "<Figure size 432x288 with 1 Axes>"
            ],
            "image/png": "[encoded data removed]"
          },
          "metadata": {}
        }
      ]
    },
    {
      "cell_type": "code",
      "source": [
        "# prediction at index 1012\n",
        "prediction_1012 = predictions[1012]\n",
        "print(f'Prediction at index 1012: {prediction_1012}')\n",
        "\n",
        "# label at index 1012\n",
        "label_1012 = Y_test[1012]\n",
        "print(f'Label at index 1012: {label_1012}', '\\n')\n",
        "\n",
        "# image at index 1012\n",
        "X_test_1012 = X_test[1012]\n",
        "# each image is 28 x 28 pixels\n",
        "img_1012 = X_test_1012.reshape(28, 28)\n",
        "\n",
        "# show img\n",
        "plt.gray()\n",
        "plt.imshow(img_1012, interpolation='nearest')\n",
        "\n",
        "plt.show()"
      ],
      "metadata": {
        "colab": {
          "base_uri": "https://localhost:8080/",
          "height": 322
        },
        "id": "9kr1FtygHdSA",
        "outputId": "3e9027ae-22ef-4cab-d4ca-5c44b902a1e8"
      },
      "execution_count": 50,
      "outputs": [
        {
          "output_type": "stream",
          "name": "stdout",
          "text": [
            "Prediction at index 1012: 0\n",
            "Label at index 1012: 0 \n",
            "\n"
          ]
        },
        {
          "output_type": "display_data",
          "data": {
            "text/plain": [
              "<Figure size 432x288 with 1 Axes>"
            ],
            "image/png": "[encoded data removed]"
          },
          "metadata": {}
        }
      ]
    },
    {
      "cell_type": "code",
      "source": [
        "# prediction at index 5099\n",
        "prediction_5099 = predictions[5099]\n",
        "print(f'Prediction at index 5099: {prediction_5099}')\n",
        "\n",
        "# Label at index 5099\n",
        "label_5099 = Y_test[5099]\n",
        "print(f'Label at index 5099: {label_5099}', '\\n')\n",
        "\n",
        "# image at index 5099\n",
        "X_test_5099 = X_test[5099]\n",
        "# each img is 28 x 28 pixels\n",
        "img_5099 = X_test_5099.reshape(28, 28)\n",
        "\n",
        "# show img\n",
        "plt.gray()\n",
        "plt.imshow(img_5099, interpolation='nearest')\n",
        "\n",
        "plt.show()"
      ],
      "metadata": {
        "colab": {
          "base_uri": "https://localhost:8080/",
          "height": 322
        },
        "id": "h0nzkyZhJwF5",
        "outputId": "a907243a-7580-4912-e0d9-f5cf6c10461a"
      },
      "execution_count": 51,
      "outputs": [
        {
          "output_type": "stream",
          "name": "stdout",
          "text": [
            "Prediction at index 5099: 6\n",
            "Label at index 5099: 6 \n",
            "\n"
          ]
        },
        {
          "output_type": "display_data",
          "data": {
            "text/plain": [
              "<Figure size 432x288 with 1 Axes>"
            ],
            "image/png": "[encoded data removed]"
          },
          "metadata": {}
        }
      ]
    },
    {
      "cell_type": "markdown",
      "source": [
        "![green-divider](https://user-images.githubusercontent.com/7065401/52071924-c003ad80-2562-11e9-8297-1c6595f8a7ff.png)"
      ],
      "metadata": {
        "id": "BB_KlPKvFMkX"
      }
    },
    {
      "cell_type": "markdown",
      "source": [
        "![purple-divider](https://user-images.githubusercontent.com/7065401/52071927-c1cd7100-2562-11e9-908a-dde91ba14e59.png)"
      ],
      "metadata": {
        "id": "FGMPIrStcUN_"
      }
    }
  ]
}